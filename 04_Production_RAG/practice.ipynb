{
 "cells": [
  {
   "cell_type": "code",
   "execution_count": 4,
   "id": "4d855def",
   "metadata": {},
   "outputs": [],
   "source": [
    "from langgraph.graph import START, StateGraph\n",
    "from typing_extensions import TypedDict\n",
    "from langchain_core.documents import Document\n",
    "\n",
    "class State(TypedDict):\n",
    "    question: str\n",
    "    context: list[Document]\n",
    "    response: str\n"
   ]
  },
  {
   "cell_type": "code",
   "execution_count": 5,
   "id": "a3a5a0d7",
   "metadata": {},
   "outputs": [],
   "source": [
    "import nest_asyncio\n",
    "nest_asyncio.apply()"
   ]
  },
  {
   "cell_type": "code",
   "execution_count": null,
   "id": "7ec9d70b",
   "metadata": {},
   "outputs": [],
   "source": [
    "\n",
    "# Loading\n",
    "\n",
    "from langchain_community.document_loaders import DirectoryLoader, PyMuPDFLoader\n",
    "\n",
    "directory_loader = DirectoryLoader(\"data\", glob=\"**/*.pdf\", loader_cls=PyMuPDFLoader)\n",
    "\n",
    "ai_usage_knowledge_reources = directory_loader.load()"
   ]
  },
  {
   "cell_type": "code",
   "execution_count": null,
   "id": "7bff7239",
   "metadata": {},
   "outputs": [
    {
     "data": {
      "text/plain": [
       "'NBER WORKING PAPER SERIES\\nHOW PEOPLE USE CHATGPT\\nAaron Chatterji\\nThomas Cunningham\\nDavid J. Deming\\nZoe Hitzig\\nChristopher Ong\\nCarl Yan Shan\\nKevin Wadman\\nWorking Paper 34255\\nhttp://www.nber.org/papers/w34255\\nNATIONAL BUREAU OF ECONOMIC RESEARCH\\n1050 Massachusetts Avenue\\nCambridge, MA 02138\\nSeptember 2025\\nWe acknowledge help and comments from Joshua Achiam, Hemanth Asirvatham, Ryan \\nBeiermeister, Rachel Brown, Cassandra Duchan Solis, Jason Kwon, Elliott Mokski, Kevin Rao, \\nHarrison Satcher, Gawesha Weeratunga, Hannah Wong, and Analytics & Insights team. We \\nespecially thank Tyna Eloundou and Pamela Mishkin who in several ways laid the foundation for \\nthis work. This study was approved by Harvard IRB (IRB25-0983). A repository containing all \\ncode run to produce the analyses in this paper is available on request. The views expressed herein \\nare those of the authors and do not necessarily reflect the views of the National Bureau of \\nEconomic Research.\\nAt least one co-author has disclosed a'"
      ]
     },
     "execution_count": 12,
     "metadata": {},
     "output_type": "execute_result"
    }
   ],
   "source": [
    "# Loaded documents\n",
    "ai_usage_knowledge_reources[0].page_content[:1000]"
   ]
  },
  {
   "cell_type": "code",
   "execution_count": 13,
   "id": "7c274b89",
   "metadata": {},
   "outputs": [],
   "source": [
    "# Chunking\n",
    "from langchain.text_splitter import RecursiveCharacterTextSplitter\n",
    "import tiktoken\n",
    "\n",
    "def tiktoken_len(text):\n",
    "    tokens = tiktoken.get_encoding(\"cl100k_base\").encode(text)\n",
    "    return len(tokens)\n",
    "\n",
    "text_splitter = RecursiveCharacterTextSplitter(\n",
    "    chunk_size= 750,\n",
    "    chunk_overlap=0,\n",
    "    length_function= tiktoken_len\n",
    "\n",
    ")\n",
    "\n",
    "\n",
    "\n"
   ]
  },
  {
   "cell_type": "code",
   "execution_count": null,
   "id": "321466c3",
   "metadata": {},
   "outputs": [],
   "source": [
    "# Chunked documents\n",
    "ai_usage_knowledge_chunks = text_splitter.split_documents(ai_usage_knowledge_reources)"
   ]
  },
  {
   "cell_type": "code",
   "execution_count": 15,
   "id": "ad12b27c",
   "metadata": {},
   "outputs": [],
   "source": [
    "# Vectorized the data\n",
    "from langchain_ollama import OllamaEmbeddings\n",
    "# System to select relevant pieces of information : embeddings\n",
    "embedding_model = OllamaEmbeddings(model='embeddinggemma:latest')"
   ]
  },
  {
   "cell_type": "code",
   "execution_count": 17,
   "id": "a6dc0c84",
   "metadata": {},
   "outputs": [
    {
     "name": "stdout",
     "output_type": "stream",
     "text": [
      "The dimension of embeddinggema is: 768\n"
     ]
    }
   ],
   "source": [
    "# Dimension of the embedding\n",
    "\n",
    "embedding_dim = len(embedding_model.embed_query(\"Hello\"))\n",
    "print(f'The dimension of embeddinggema is: {embedding_dim}')"
   ]
  },
  {
   "cell_type": "code",
   "execution_count": null,
   "id": "d0c3880b",
   "metadata": {},
   "outputs": [],
   "source": [
    "# Store in Vector Store\n",
    "from langchain_qdrant import QdrantVectorStore\n",
    "from qdrant_client import QdrantClient\n",
    "from qdrant_client.http.models import Distance, VectorParams\n",
    "\n",
    "client = QdrantClient(':memory:') # client"
   ]
  },
  {
   "cell_type": "code",
   "execution_count": null,
   "id": "8a2bbd03",
   "metadata": {},
   "outputs": [
    {
     "data": {
      "text/plain": [
       "True"
      ]
     },
     "execution_count": 18,
     "metadata": {},
     "output_type": "execute_result"
    }
   ],
   "source": [
    "client.create_collection(\n",
    "    collection_name='ai_usage_knowledge',\n",
    "    vectors_config= VectorParams(size=embedding_dim, distance= Distance.COSINE) #collection\n",
    ")"
   ]
  },
  {
   "cell_type": "code",
   "execution_count": 20,
   "id": "52aa1b60",
   "metadata": {},
   "outputs": [],
   "source": [
    "# Vector Store\n",
    "vector_store = QdrantVectorStore(\n",
    "    client = client,\n",
    "    collection_name = 'ai_usage_knowledge',\n",
    "    embedding= embedding_model\n",
    ")"
   ]
  },
  {
   "cell_type": "code",
   "execution_count": 21,
   "id": "ea7a5b74",
   "metadata": {},
   "outputs": [],
   "source": [
    "# Add documents to the vector store\n",
    "\n",
    "_ = vector_store.add_documents(documents=ai_usage_knowledge_chunks )"
   ]
  },
  {
   "cell_type": "code",
   "execution_count": 22,
   "id": "a281a735",
   "metadata": {},
   "outputs": [],
   "source": [
    "# retriever\n",
    "retriever = vector_store.as_retriever(search_kwargs={'k':5})"
   ]
  },
  {
   "cell_type": "code",
   "execution_count": null,
   "id": "44c3073f",
   "metadata": {},
   "outputs": [
    {
     "data": {
      "text/plain": [
       "[Document(metadata={'producer': 'macOS Version 15.4.1 (Build 24E263) Quartz PDFContext, AppendMode 1.1', 'creator': 'LaTeX with hyperref', 'creationdate': '2025-09-12T20:05:32+00:00', 'source': 'data\\\\howpeopleuseai.pdf', 'file_path': 'data\\\\howpeopleuseai.pdf', 'total_pages': 64, 'format': 'PDF 1.6', 'title': 'How People Use ChatGPT', 'author': '', 'subject': '', 'keywords': '', 'moddate': '2025-09-15T10:32:36-04:00', 'trapped': '', 'modDate': \"D:20250915103236-04'00'\", 'creationDate': 'D:20250912200532Z', 'page': 34, '_id': 'a464e94115ff4a6dad8c506fb70d3caa', '_collection_name': 'ai_usage_knowledge'}, page_content='Panel A. Work Related\\nPanel B1. Asking.\\nPanel B2. Doing.\\nFigure 23: (continued on next page)\\n33'),\n",
       " Document(metadata={'producer': 'macOS Version 15.4.1 (Build 24E263) Quartz PDFContext, AppendMode 1.1', 'creator': 'LaTeX with hyperref', 'creationdate': '2025-09-12T20:05:32+00:00', 'source': 'data\\\\howpeopleuseai.pdf', 'file_path': 'data\\\\howpeopleuseai.pdf', 'total_pages': 64, 'format': 'PDF 1.6', 'title': 'How People Use ChatGPT', 'author': '', 'subject': '', 'keywords': '', 'moddate': '2025-09-15T10:32:36-04:00', 'trapped': '', 'modDate': \"D:20250915103236-04'00'\", 'creationDate': 'D:20250912200532Z', 'page': 30, '_id': 'b6a28cfecdd5445a9eb09e320320585e', '_collection_name': 'ai_usage_knowledge'}, page_content='Panel A. Work Related\\nPanel B1. Asking.\\nPanel B2. Doing.\\nPanel B3. Expressing.\\nFigure 22: (continued on next page)\\n29'),\n",
       " Document(metadata={'producer': 'macOS Version 15.4.1 (Build 24E263) Quartz PDFContext, AppendMode 1.1', 'creator': 'LaTeX with hyperref', 'creationdate': '2025-09-12T20:05:32+00:00', 'source': 'data\\\\howpeopleuseai.pdf', 'file_path': 'data\\\\howpeopleuseai.pdf', 'total_pages': 64, 'format': 'PDF 1.6', 'title': 'How People Use ChatGPT', 'author': '', 'subject': '', 'keywords': '', 'moddate': '2025-09-15T10:32:36-04:00', 'trapped': '', 'modDate': \"D:20250915103236-04'00'\", 'creationDate': 'D:20250912200532Z', 'page': 53, '_id': '7ee9d8584c2a4102bc866f3d3e90353a', '_collection_name': 'ai_usage_knowledge'}, page_content=\"E.g. 'User is rewriting email to neighbors about\\nplumbing to be more friendly,'\\nor 'User is complaining about grandmother'\\nor 'User is asking for help fixing python databricks error.'\\n31The IWA classifications were carried out by two annotators, while all other classifications had three.\\n52\"),\n",
       " Document(metadata={'producer': 'macOS Version 15.4.1 (Build 24E263) Quartz PDFContext, AppendMode 1.1', 'creator': 'LaTeX with hyperref', 'creationdate': '2025-09-12T20:05:32+00:00', 'source': 'data\\\\howpeopleuseai.pdf', 'file_path': 'data\\\\howpeopleuseai.pdf', 'total_pages': 64, 'format': 'PDF 1.6', 'title': 'How People Use ChatGPT', 'author': '', 'subject': '', 'keywords': '', 'moddate': '2025-09-15T10:32:36-04:00', 'trapped': '', 'modDate': \"D:20250915103236-04'00'\", 'creationDate': 'D:20250912200532Z', 'page': 37, '_id': '06bf229d3e9b41f9a81b3fc10b474de9', '_collection_name': 'ai_usage_knowledge'}, page_content='in knowledge-intensive jobs where productivity is increasing in the quality of decision-making.\\n36'),\n",
       " Document(metadata={'producer': 'macOS Version 15.4.1 (Build 24E263) Quartz PDFContext, AppendMode 1.1', 'creator': 'LaTeX with hyperref', 'creationdate': '2025-09-12T20:05:32+00:00', 'source': 'data\\\\howpeopleuseai.pdf', 'file_path': 'data\\\\howpeopleuseai.pdf', 'total_pages': 64, 'format': 'PDF 1.6', 'title': 'How People Use ChatGPT', 'author': '', 'subject': '', 'keywords': '', 'moddate': '2025-09-15T10:32:36-04:00', 'trapped': '', 'modDate': \"D:20250915103236-04'00'\", 'creationDate': 'D:20250912200532Z', 'page': 32, '_id': '25abbb1ef83d4a1f9bb27fdc0bbc2087', '_collection_name': 'ai_usage_knowledge'}, page_content='27As discussed in Section: Data and Privacy, our dataset only includes users on ChatGPT Consumer plans. Corporate\\nusers may also use ChatGPT Business (formerly known as Teams) or ChatGPT Enterprise.\\n28Very few work-related messages are classified as Expressing.\\n29Appendix D contains a full report of GWA counts broken down by occupation, for both work-related ChatGPT\\n31')]"
      ]
     },
     "execution_count": 23,
     "metadata": {},
     "output_type": "execute_result"
    },
    {
     "name": "stderr",
     "output_type": "stream",
     "text": [
      "Failed to multipart ingest runs: langsmith.utils.LangSmithError: Failed to POST https://api.smith.langchain.com/runs/multipart in LangSmith API. HTTPError('403 Client Error: Forbidden for url: https://api.smith.langchain.com/runs/multipart', '{\"error\":\"Forbidden\"}\\n')\n",
      "Failed to send compressed multipart ingest: langsmith.utils.LangSmithError: Failed to POST https://api.smith.langchain.com/runs/multipart in LangSmith API. HTTPError('403 Client Error: Forbidden for url: https://api.smith.langchain.com/runs/multipart', '{\"error\":\"Forbidden\"}\\n')\n",
      "Failed to send compressed multipart ingest: langsmith.utils.LangSmithError: Failed to POST https://api.smith.langchain.com/runs/multipart in LangSmith API. HTTPError('403 Client Error: Forbidden for url: https://api.smith.langchain.com/runs/multipart', '{\"error\":\"Forbidden\"}\\n')\n",
      "Failed to send compressed multipart ingest: langsmith.utils.LangSmithError: Failed to POST https://api.smith.langchain.com/runs/multipart in LangSmith API. HTTPError('403 Client Error: Forbidden for url: https://api.smith.langchain.com/runs/multipart', '{\"error\":\"Forbidden\"}\\n')\n",
      "Failed to send compressed multipart ingest: langsmith.utils.LangSmithError: Failed to POST https://api.smith.langchain.com/runs/multipart in LangSmith API. HTTPError('403 Client Error: Forbidden for url: https://api.smith.langchain.com/runs/multipart', '{\"error\":\"Forbidden\"}\\n')\n",
      "Failed to send compressed multipart ingest: langsmith.utils.LangSmithError: Failed to POST https://api.smith.langchain.com/runs/multipart in LangSmith API. HTTPError('403 Client Error: Forbidden for url: https://api.smith.langchain.com/runs/multipart', '{\"error\":\"Forbidden\"}\\n')\n",
      "Failed to send compressed multipart ingest: langsmith.utils.LangSmithError: Failed to POST https://api.smith.langchain.com/runs/multipart in LangSmith API. HTTPError('403 Client Error: Forbidden for url: https://api.smith.langchain.com/runs/multipart', '{\"error\":\"Forbidden\"}\\n')\n",
      "Failed to send compressed multipart ingest: langsmith.utils.LangSmithError: Failed to POST https://api.smith.langchain.com/runs/multipart in LangSmith API. HTTPError('403 Client Error: Forbidden for url: https://api.smith.langchain.com/runs/multipart', '{\"error\":\"Forbidden\"}\\n')\n",
      "Failed to send compressed multipart ingest: langsmith.utils.LangSmithError: Failed to POST https://api.smith.langchain.com/runs/multipart in LangSmith API. HTTPError('403 Client Error: Forbidden for url: https://api.smith.langchain.com/runs/multipart', '{\"error\":\"Forbidden\"}\\n')\n",
      "Failed to send compressed multipart ingest: langsmith.utils.LangSmithError: Failed to POST https://api.smith.langchain.com/runs/multipart in LangSmith API. HTTPError('403 Client Error: Forbidden for url: https://api.smith.langchain.com/runs/multipart', '{\"error\":\"Forbidden\"}\\n')\n",
      "Failed to send compressed multipart ingest: langsmith.utils.LangSmithError: Failed to POST https://api.smith.langchain.com/runs/multipart in LangSmith API. HTTPError('403 Client Error: Forbidden for url: https://api.smith.langchain.com/runs/multipart', '{\"error\":\"Forbidden\"}\\n')\n",
      "Failed to send compressed multipart ingest: langsmith.utils.LangSmithError: Failed to POST https://api.smith.langchain.com/runs/multipart in LangSmith API. HTTPError('403 Client Error: Forbidden for url: https://api.smith.langchain.com/runs/multipart', '{\"error\":\"Forbidden\"}\\n')\n",
      "Failed to send compressed multipart ingest: langsmith.utils.LangSmithError: Failed to POST https://api.smith.langchain.com/runs/multipart in LangSmith API. HTTPError('403 Client Error: Forbidden for url: https://api.smith.langchain.com/runs/multipart', '{\"error\":\"Forbidden\"}\\n')\n",
      "Failed to send compressed multipart ingest: langsmith.utils.LangSmithError: Failed to POST https://api.smith.langchain.com/runs/multipart in LangSmith API. HTTPError('403 Client Error: Forbidden for url: https://api.smith.langchain.com/runs/multipart', '{\"error\":\"Forbidden\"}\\n')\n",
      "Failed to send compressed multipart ingest: langsmith.utils.LangSmithError: Failed to POST https://api.smith.langchain.com/runs/multipart in LangSmith API. HTTPError('403 Client Error: Forbidden for url: https://api.smith.langchain.com/runs/multipart', '{\"error\":\"Forbidden\"}\\n')\n",
      "Failed to send compressed multipart ingest: langsmith.utils.LangSmithError: Failed to POST https://api.smith.langchain.com/runs/multipart in LangSmith API. HTTPError('403 Client Error: Forbidden for url: https://api.smith.langchain.com/runs/multipart', '{\"error\":\"Forbidden\"}\\n')\n",
      "Failed to send compressed multipart ingest: langsmith.utils.LangSmithError: Failed to POST https://api.smith.langchain.com/runs/multipart in LangSmith API. HTTPError('403 Client Error: Forbidden for url: https://api.smith.langchain.com/runs/multipart', '{\"error\":\"Forbidden\"}\\n')\n",
      "Failed to send compressed multipart ingest: langsmith.utils.LangSmithError: Failed to POST https://api.smith.langchain.com/runs/multipart in LangSmith API. HTTPError('403 Client Error: Forbidden for url: https://api.smith.langchain.com/runs/multipart', '{\"error\":\"Forbidden\"}\\n')\n"
     ]
    }
   ],
   "source": [
    "retriever.invoke(\"How do people use AI in their daily work?\")"
   ]
  },
  {
   "cell_type": "code",
   "execution_count": 44,
   "id": "195a4089",
   "metadata": {},
   "outputs": [],
   "source": [
    "# We are ready to create our nodes\n",
    "def retrieve(state:State) -> State:\n",
    "    retrieved_docs = retriever.invoke(state[\"question\"])\n",
    "    return {\"context\": retrieved_docs}"
   ]
  },
  {
   "cell_type": "code",
   "execution_count": 24,
   "id": "1f1afe27",
   "metadata": {},
   "outputs": [],
   "source": [
    "from langchain_core.prompts import ChatPromptTemplate\n",
    "\n",
    "HUMAN_TEMPLATE =\"\"\"\n",
    "#CONTEXT:\n",
    "{context}\n",
    "\n",
    "QUERY:\n",
    "{query}\n",
    "\n",
    "Use the provide context to answer the provided user query. Only use the provided context to answer the query. If you do not know the answer, or it's not contained in the provided context response with \"I don't know\" \n",
    "\"\"\"\n",
    "chat_prompt = ChatPromptTemplate.from_messages([\n",
    "    (\"human\", HUMAN_TEMPLATE)\n",
    "])"
   ]
  },
  {
   "cell_type": "code",
   "execution_count": 28,
   "id": "c87f320b",
   "metadata": {},
   "outputs": [
    {
     "data": {
      "text/plain": [
       "'\\n#CONTEXT:\\nOur context here\\n\\nQUERY:\\nOur query here\\n\\nUse the provide context to answer the provided user query. Only use the provided context to answer the query. If you do not know the answer, or it\\'s not contained in the provided context response with \"I don\\'t know\" \\n'"
      ]
     },
     "execution_count": 28,
     "metadata": {},
     "output_type": "execute_result"
    }
   ],
   "source": [
    "chat_prompt.invoke({\"context\":\"Our context here\", \"query\":\"Our query here\"}).messages[0].content"
   ]
  },
  {
   "cell_type": "code",
   "execution_count": 29,
   "id": "7f393b0e",
   "metadata": {},
   "outputs": [],
   "source": [
    "from langchain_ollama  import ChatOllama\n",
    "\n",
    "ollama_chat_model = ChatOllama(model='gpt-oss:20b', temperature=0.6)"
   ]
  },
  {
   "cell_type": "code",
   "execution_count": 30,
   "id": "b3e6660a",
   "metadata": {},
   "outputs": [
    {
     "data": {
      "text/plain": [
       "AIMessage(content='Paris', additional_kwargs={}, response_metadata={'model': 'gpt-oss:20b', 'created_at': '2025-09-21T10:52:10.0363249Z', 'done': True, 'done_reason': 'stop', 'total_duration': 15029862500, 'load_duration': 8769561100, 'prompt_eval_count': 133, 'prompt_eval_duration': 2877819500, 'eval_count': 49, 'eval_duration': 3354328300, 'model_name': 'gpt-oss:20b'}, id='run--6051be47-8c16-4f14-8743-9d78a3aa1a06-0', usage_metadata={'input_tokens': 133, 'output_tokens': 49, 'total_tokens': 182})"
      ]
     },
     "execution_count": 30,
     "metadata": {},
     "output_type": "execute_result"
    }
   ],
   "source": [
    "# Call the model with a formatted prompt\n",
    "ollama_chat_model.invoke(chat_prompt.invoke({\"context\":\"Paris is the capital of France\", \"query\":\"What is the capital of France?\"}))"
   ]
  },
  {
   "cell_type": "code",
   "execution_count": 31,
   "id": "5c2d292b",
   "metadata": {},
   "outputs": [
    {
     "data": {
      "text/plain": [
       "'Paris'"
      ]
     },
     "execution_count": 31,
     "metadata": {},
     "output_type": "execute_result"
    }
   ],
   "source": [
    "from langchain_core.output_parsers import StrOutputParser\n",
    "\n",
    "generator_chain = chat_prompt | ollama_chat_model | StrOutputParser()\n",
    "\n",
    "generator_chain.invoke({\"context\":\"Paris is the capital of France\", \"query\":\"What is the capital of France?\"})"
   ]
  },
  {
   "cell_type": "code",
   "execution_count": 40,
   "id": "81c82bbe",
   "metadata": {},
   "outputs": [],
   "source": [
    "def generate(state:State) -> State:\n",
    "    generator_chain = chat_prompt | ollama_chat_model | StrOutputParser()\n",
    "    response = generator_chain.invoke({\"context\":state[\"context\"], \"query\":state[\"question\"]})\n",
    "    return {\"response\": response}"
   ]
  },
  {
   "cell_type": "code",
   "execution_count": 41,
   "id": "a4ed6386",
   "metadata": {},
   "outputs": [],
   "source": [
    "graph_builder = StateGraph(State) # blank canvas"
   ]
  },
  {
   "cell_type": "code",
   "execution_count": 45,
   "id": "9929c51c",
   "metadata": {},
   "outputs": [],
   "source": [
    "graph_builder = graph_builder.add_sequence([retrieve, generate])"
   ]
  },
  {
   "cell_type": "code",
   "execution_count": null,
   "id": "9ad76b96",
   "metadata": {},
   "outputs": [],
   "source": [
    "graph_builder = graph_builder.add_edge(START, \"retrieve\") #reference the refistered function"
   ]
  },
  {
   "cell_type": "code",
   "execution_count": 47,
   "id": "689ca07f",
   "metadata": {},
   "outputs": [],
   "source": [
    "graph= graph_builder.compile()"
   ]
  },
  {
   "cell_type": "code",
   "execution_count": 48,
   "id": "19b13c0d",
   "metadata": {},
   "outputs": [
    {
     "data": {
      "image/png": "[encoded data removed]",
      "text/plain": [
       "<langgraph.graph.state.CompiledStateGraph object at 0x0000020AFD7B6270>"
      ]
     },
     "execution_count": 48,
     "metadata": {},
     "output_type": "execute_result"
    }
   ],
   "source": [
    "graph"
   ]
  },
  {
   "cell_type": "code",
   "execution_count": 49,
   "id": "62f5785f",
   "metadata": {},
   "outputs": [],
   "source": [
    "# Invoke the graph as any other runnable\n",
    "\n",
    "response = graph.invoke({\"question\":\"How do people use AI in their daily work?\"})"
   ]
  },
  {
   "cell_type": "code",
   "execution_count": 51,
   "id": "a05ce8a0",
   "metadata": {},
   "outputs": [
    {
     "data": {
      "text/plain": [
       "{'question': 'How do people use AI in their daily work?',\n",
       " 'context': [Document(metadata={'producer': 'macOS Version 15.4.1 (Build 24E263) Quartz PDFContext, AppendMode 1.1', 'creator': 'LaTeX with hyperref', 'creationdate': '2025-09-12T20:05:32+00:00', 'source': 'data\\\\howpeopleuseai.pdf', 'file_path': 'data\\\\howpeopleuseai.pdf', 'total_pages': 64, 'format': 'PDF 1.6', 'title': 'How People Use ChatGPT', 'author': '', 'subject': '', 'keywords': '', 'moddate': '2025-09-15T10:32:36-04:00', 'trapped': '', 'modDate': \"D:20250915103236-04'00'\", 'creationDate': 'D:20250912200532Z', 'page': 34, '_id': 'a464e94115ff4a6dad8c506fb70d3caa', '_collection_name': 'ai_usage_knowledge'}, page_content='Panel A. Work Related\\nPanel B1. Asking.\\nPanel B2. Doing.\\nFigure 23: (continued on next page)\\n33'),\n",
       "  Document(metadata={'producer': 'macOS Version 15.4.1 (Build 24E263) Quartz PDFContext, AppendMode 1.1', 'creator': 'LaTeX with hyperref', 'creationdate': '2025-09-12T20:05:32+00:00', 'source': 'data\\\\howpeopleuseai.pdf', 'file_path': 'data\\\\howpeopleuseai.pdf', 'total_pages': 64, 'format': 'PDF 1.6', 'title': 'How People Use ChatGPT', 'author': '', 'subject': '', 'keywords': '', 'moddate': '2025-09-15T10:32:36-04:00', 'trapped': '', 'modDate': \"D:20250915103236-04'00'\", 'creationDate': 'D:20250912200532Z', 'page': 30, '_id': 'b6a28cfecdd5445a9eb09e320320585e', '_collection_name': 'ai_usage_knowledge'}, page_content='Panel A. Work Related\\nPanel B1. Asking.\\nPanel B2. Doing.\\nPanel B3. Expressing.\\nFigure 22: (continued on next page)\\n29'),\n",
       "  Document(metadata={'producer': 'macOS Version 15.4.1 (Build 24E263) Quartz PDFContext, AppendMode 1.1', 'creator': 'LaTeX with hyperref', 'creationdate': '2025-09-12T20:05:32+00:00', 'source': 'data\\\\howpeopleuseai.pdf', 'file_path': 'data\\\\howpeopleuseai.pdf', 'total_pages': 64, 'format': 'PDF 1.6', 'title': 'How People Use ChatGPT', 'author': '', 'subject': '', 'keywords': '', 'moddate': '2025-09-15T10:32:36-04:00', 'trapped': '', 'modDate': \"D:20250915103236-04'00'\", 'creationDate': 'D:20250912200532Z', 'page': 53, '_id': '7ee9d8584c2a4102bc866f3d3e90353a', '_collection_name': 'ai_usage_knowledge'}, page_content=\"E.g. 'User is rewriting email to neighbors about\\nplumbing to be more friendly,'\\nor 'User is complaining about grandmother'\\nor 'User is asking for help fixing python databricks error.'\\n31The IWA classifications were carried out by two annotators, while all other classifications had three.\\n52\"),\n",
       "  Document(metadata={'producer': 'macOS Version 15.4.1 (Build 24E263) Quartz PDFContext, AppendMode 1.1', 'creator': 'LaTeX with hyperref', 'creationdate': '2025-09-12T20:05:32+00:00', 'source': 'data\\\\howpeopleuseai.pdf', 'file_path': 'data\\\\howpeopleuseai.pdf', 'total_pages': 64, 'format': 'PDF 1.6', 'title': 'How People Use ChatGPT', 'author': '', 'subject': '', 'keywords': '', 'moddate': '2025-09-15T10:32:36-04:00', 'trapped': '', 'modDate': \"D:20250915103236-04'00'\", 'creationDate': 'D:20250912200532Z', 'page': 37, '_id': '06bf229d3e9b41f9a81b3fc10b474de9', '_collection_name': 'ai_usage_knowledge'}, page_content='in knowledge-intensive jobs where productivity is increasing in the quality of decision-making.\\n36'),\n",
       "  Document(metadata={'producer': 'macOS Version 15.4.1 (Build 24E263) Quartz PDFContext, AppendMode 1.1', 'creator': 'LaTeX with hyperref', 'creationdate': '2025-09-12T20:05:32+00:00', 'source': 'data\\\\howpeopleuseai.pdf', 'file_path': 'data\\\\howpeopleuseai.pdf', 'total_pages': 64, 'format': 'PDF 1.6', 'title': 'How People Use ChatGPT', 'author': '', 'subject': '', 'keywords': '', 'moddate': '2025-09-15T10:32:36-04:00', 'trapped': '', 'modDate': \"D:20250915103236-04'00'\", 'creationDate': 'D:20250912200532Z', 'page': 32, '_id': '25abbb1ef83d4a1f9bb27fdc0bbc2087', '_collection_name': 'ai_usage_knowledge'}, page_content='27As discussed in Section: Data and Privacy, our dataset only includes users on ChatGPT Consumer plans. Corporate\\nusers may also use ChatGPT Business (formerly known as Teams) or ChatGPT Enterprise.\\n28Very few work-related messages are classified as Expressing.\\n29Appendix D contains a full report of GWA counts broken down by occupation, for both work-related ChatGPT\\n31')],\n",
       " 'response': 'People use AI in their everyday work mainly by **asking for help, doing tasks, and occasionally expressing ideas or emotions**.  \\n- **Asking**: Workers turn to ChatGPT to get explanations, troubleshoot errors (e.g., “help fixing a Python Databricks error”), or rewrite communications (e.g., “rewrite an email to neighbors about plumbing”).\\n- **Doing**: The model assists in completing work tasks—generating content, drafting code, or automating routine steps.\\n- **Expressing**: This is much less common in work contexts; most work‑related interactions are focused on problem‑solving rather than emotional or expressive content.\\n\\nIn knowledge‑intensive roles, AI is used to boost productivity by improving the quality of decision‑making. Overall, the dominant pattern is that people use ChatGPT as a tool for information retrieval, task execution, and content creation in their daily jobs.'}"
      ]
     },
     "execution_count": 51,
     "metadata": {},
     "output_type": "execute_result"
    }
   ],
   "source": [
    "response\n"
   ]
  },
  {
   "cell_type": "code",
   "execution_count": 52,
   "id": "eb649fba",
   "metadata": {},
   "outputs": [
    {
     "data": {
      "text/plain": [
       "'People use AI in their everyday work mainly by **asking for help, doing tasks, and occasionally expressing ideas or emotions**.  \\n- **Asking**: Workers turn to ChatGPT to get explanations, troubleshoot errors (e.g., “help fixing a Python Databricks error”), or rewrite communications (e.g., “rewrite an email to neighbors about plumbing”).\\n- **Doing**: The model assists in completing work tasks—generating content, drafting code, or automating routine steps.\\n- **Expressing**: This is much less common in work contexts; most work‑related interactions are focused on problem‑solving rather than emotional or expressive content.\\n\\nIn knowledge‑intensive roles, AI is used to boost productivity by improving the quality of decision‑making. Overall, the dominant pattern is that people use ChatGPT as a tool for information retrieval, task execution, and content creation in their daily jobs.'"
      ]
     },
     "execution_count": 52,
     "metadata": {},
     "output_type": "execute_result"
    }
   ],
   "source": [
    "response['response']"
   ]
  },
  {
   "cell_type": "code",
   "execution_count": 53,
   "id": "09968005",
   "metadata": {},
   "outputs": [
    {
     "data": {
      "text/markdown": [
       "People use AI in their everyday work mainly by **asking for help, doing tasks, and occasionally expressing ideas or emotions**.  \n",
       "- **Asking**: Workers turn to ChatGPT to get explanations, troubleshoot errors (e.g., “help fixing a Python Databricks error”), or rewrite communications (e.g., “rewrite an email to neighbors about plumbing”).\n",
       "- **Doing**: The model assists in completing work tasks—generating content, drafting code, or automating routine steps.\n",
       "- **Expressing**: This is much less common in work contexts; most work‑related interactions are focused on problem‑solving rather than emotional or expressive content.\n",
       "\n",
       "In knowledge‑intensive roles, AI is used to boost productivity by improving the quality of decision‑making. Overall, the dominant pattern is that people use ChatGPT as a tool for information retrieval, task execution, and content creation in their daily jobs."
      ],
      "text/plain": [
       "<IPython.core.display.Markdown object>"
      ]
     },
     "metadata": {},
     "output_type": "display_data"
    }
   ],
   "source": [
    "from IPython.display import Markdown, display\n",
    "display(Markdown(response['response']))"
   ]
  },
  {
   "cell_type": "code",
   "execution_count": 54,
   "id": "8017c56a",
   "metadata": {},
   "outputs": [],
   "source": [
    "response = graph.invoke({\"question\":\"If you had to select the main use case of AI, what would that be?\"})"
   ]
  },
  {
   "cell_type": "code",
   "execution_count": 55,
   "id": "dcba3974",
   "metadata": {},
   "outputs": [
    {
     "data": {
      "text/markdown": [
       "Based on the excerpts, the primary use case highlighted for AI is **work‑related tasks**—whether it’s asking for help, carrying out a task, or expressing ideas in a professional context."
      ],
      "text/plain": [
       "<IPython.core.display.Markdown object>"
      ]
     },
     "metadata": {},
     "output_type": "display_data"
    }
   ],
   "source": [
    "from IPython.display import Markdown, display\n",
    "display(Markdown(response['response']))"
   ]
  },
  {
   "cell_type": "code",
   "execution_count": 56,
   "id": "0f135cd6",
   "metadata": {},
   "outputs": [
    {
     "data": {
      "text/markdown": [
       "I don't know."
      ],
      "text/plain": [
       "<IPython.core.display.Markdown object>"
      ]
     },
     "metadata": {},
     "output_type": "display_data"
    }
   ],
   "source": [
    "response = graph.invoke({\"question\": \"Who is Mark Zuckerberg?\"})\n",
    "display(Markdown(response['response']))\n"
   ]
  }
 ],
 "metadata": {
  "kernelspec": {
   "display_name": "Python (04-Production-RAG)",
   "language": "python",
   "name": "04-production-rag"
  },
  "language_info": {
   "codemirror_mode": {
    "name": "ipython",
    "version": 3
   },
   "file_extension": ".py",
   "mimetype": "text/x-python",
   "name": "python",
   "nbconvert_exporter": "python",
   "pygments_lexer": "ipython3",
   "version": "3.13.3"
  }
 },
 "nbformat": 4,
 "nbformat_minor": 5
}
