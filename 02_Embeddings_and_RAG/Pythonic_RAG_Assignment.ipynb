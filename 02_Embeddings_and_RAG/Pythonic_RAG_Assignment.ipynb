{
  "cells": [
    {
      "cell_type": "markdown",
      "metadata": {
        "id": "lElF3o5PR6ys"
      },
      "source": [
        "# Your First RAG Application\n",
        "\n",
        "In this notebook, we'll walk you through each of the components that are involved in a simple RAG application.\n",
        "\n",
        "We won't be leveraging any fancy tools, just the OpenAI Python SDK, Numpy, and some classic Python.\n",
        "\n",
        "> NOTE: This was done with Python 3.12.3.\n",
        "\n",
        "> NOTE: There might be [compatibility issues](https://github.com/wandb/wandb/issues/7683) if you're on NVIDIA driver >552.44 As an interim solution - you can rollback your drivers to the 552.44."
      ]
    },
    {
      "cell_type": "markdown",
      "metadata": {
        "id": "5CtcL8P8R6yt"
      },
      "source": [
        "## Table of Contents:\n",
        "\n",
        "- Task 1: Imports and Utilities\n",
        "- Task 2: Documents\n",
        "- Task 3: Embeddings and Vectors\n",
        "- Task 4: Prompts\n",
        "- Task 5: Retrieval Augmented Generation\n",
        "  - 🚧 Activity #1: Augment RAG"
      ]
    },
    {
      "cell_type": "markdown",
      "metadata": {
        "id": "1Dz6GYilR6yt"
      },
      "source": [
        "Let's look at a rather complicated looking visual representation of a basic RAG application.\n",
        "\n",
        "<img src=\"https://i.imgur.com/vD8b016.png\" />"
      ]
    },
    {
      "cell_type": "markdown",
      "metadata": {
        "id": "PjmC0KFtR6yt"
      },
      "source": [
        "## Task 1: Imports and Utility\n",
        "\n",
        "We're just doing some imports and enabling `async` to work within the Jupyter environment here, nothing too crazy!"
      ]
    },
    {
      "cell_type": "code",
      "execution_count": 25,
      "metadata": {},
      "outputs": [
        {
          "name": "stdout",
          "output_type": "stream",
          "text": [
            "Requirement already satisfied: numpy in c:\\users\\inés\\appdata\\local\\programs\\python\\python311\\lib\\site-packages (2.3.3)\n",
            "Note: you may need to restart the kernel to use updated packages.\n"
          ]
        },
        {
          "name": "stderr",
          "output_type": "stream",
          "text": [
            "\n",
            "[notice] A new release of pip is available: 24.0 -> 25.2\n",
            "[notice] To update, run: python.exe -m pip install --upgrade pip\n"
          ]
        }
      ],
      "source": [
        "%pip install numpy"
      ]
    },
    {
      "cell_type": "code",
      "execution_count": 26,
      "metadata": {},
      "outputs": [
        {
          "name": "stdout",
          "output_type": "stream",
          "text": [
            "Requirement already satisfied: dotenv in c:\\users\\inés\\appdata\\local\\programs\\python\\python311\\lib\\site-packages (0.9.9)\n",
            "Requirement already satisfied: python-dotenv in c:\\users\\inés\\appdata\\local\\programs\\python\\python311\\lib\\site-packages (from dotenv) (1.1.1)\n",
            "Note: you may need to restart the kernel to use updated packages.\n"
          ]
        },
        {
          "name": "stderr",
          "output_type": "stream",
          "text": [
            "\n",
            "[notice] A new release of pip is available: 24.0 -> 25.2\n",
            "[notice] To update, run: python.exe -m pip install --upgrade pip\n"
          ]
        }
      ],
      "source": [
        "%pip install dotenv"
      ]
    },
    {
      "cell_type": "code",
      "execution_count": 27,
      "metadata": {},
      "outputs": [
        {
          "name": "stdout",
          "output_type": "stream",
          "text": [
            "Requirement already satisfied: openai in c:\\users\\inés\\appdata\\local\\programs\\python\\python311\\lib\\site-packages (1.107.2)\n",
            "Requirement already satisfied: anyio<5,>=3.5.0 in c:\\users\\inés\\appdata\\local\\programs\\python\\python311\\lib\\site-packages (from openai) (4.10.0)\n",
            "Requirement already satisfied: distro<2,>=1.7.0 in c:\\users\\inés\\appdata\\local\\programs\\python\\python311\\lib\\site-packages (from openai) (1.9.0)\n",
            "Requirement already satisfied: httpx<1,>=0.23.0 in c:\\users\\inés\\appdata\\local\\programs\\python\\python311\\lib\\site-packages (from openai) (0.28.1)\n",
            "Requirement already satisfied: jiter<1,>=0.4.0 in c:\\users\\inés\\appdata\\local\\programs\\python\\python311\\lib\\site-packages (from openai) (0.10.0)\n",
            "Requirement already satisfied: pydantic<3,>=1.9.0 in c:\\users\\inés\\appdata\\local\\programs\\python\\python311\\lib\\site-packages (from openai) (2.11.9)\n",
            "Requirement already satisfied: sniffio in c:\\users\\inés\\appdata\\local\\programs\\python\\python311\\lib\\site-packages (from openai) (1.3.1)\n",
            "Requirement already satisfied: tqdm>4 in c:\\users\\inés\\appdata\\local\\programs\\python\\python311\\lib\\site-packages (from openai) (4.67.1)\n",
            "Requirement already satisfied: typing-extensions<5,>=4.11 in c:\\users\\inés\\appdata\\roaming\\python\\python311\\site-packages (from openai) (4.15.0)\n",
            "Requirement already satisfied: idna>=2.8 in c:\\users\\inés\\appdata\\local\\programs\\python\\python311\\lib\\site-packages (from anyio<5,>=3.5.0->openai) (3.10)\n",
            "Requirement already satisfied: certifi in c:\\users\\inés\\appdata\\local\\programs\\python\\python311\\lib\\site-packages (from httpx<1,>=0.23.0->openai) (2025.8.3)\n",
            "Requirement already satisfied: httpcore==1.* in c:\\users\\inés\\appdata\\local\\programs\\python\\python311\\lib\\site-packages (from httpx<1,>=0.23.0->openai) (1.0.9)\n",
            "Requirement already satisfied: h11>=0.16 in c:\\users\\inés\\appdata\\local\\programs\\python\\python311\\lib\\site-packages (from httpcore==1.*->httpx<1,>=0.23.0->openai) (0.16.0)\n",
            "Requirement already satisfied: annotated-types>=0.6.0 in c:\\users\\inés\\appdata\\local\\programs\\python\\python311\\lib\\site-packages (from pydantic<3,>=1.9.0->openai) (0.7.0)\n",
            "Requirement already satisfied: pydantic-core==2.33.2 in c:\\users\\inés\\appdata\\local\\programs\\python\\python311\\lib\\site-packages (from pydantic<3,>=1.9.0->openai) (2.33.2)\n",
            "Requirement already satisfied: typing-inspection>=0.4.0 in c:\\users\\inés\\appdata\\local\\programs\\python\\python311\\lib\\site-packages (from pydantic<3,>=1.9.0->openai) (0.4.1)\n",
            "Requirement already satisfied: colorama in c:\\users\\inés\\appdata\\roaming\\python\\python311\\site-packages (from tqdm>4->openai) (0.4.6)\n",
            "Note: you may need to restart the kernel to use updated packages.\n"
          ]
        },
        {
          "name": "stderr",
          "output_type": "stream",
          "text": [
            "\n",
            "[notice] A new release of pip is available: 24.0 -> 25.2\n",
            "[notice] To update, run: python.exe -m pip install --upgrade pip\n"
          ]
        }
      ],
      "source": [
        "%pip install openai"
      ]
    },
    {
      "cell_type": "code",
      "execution_count": 28,
      "metadata": {
        "id": "Z1dyrG4hR6yt"
      },
      "outputs": [],
      "source": [
        "from aimakerspace.text_utils import TextFileLoader, CharacterTextSplitter\n",
        "from aimakerspace.vectordatabase import VectorDatabase\n",
        "import asyncio"
      ]
    },
    {
      "cell_type": "code",
      "execution_count": 29,
      "metadata": {
        "id": "9OrFZRnER6yt"
      },
      "outputs": [],
      "source": [
        "import nest_asyncio\n",
        "nest_asyncio.apply()"
      ]
    },
    {
      "cell_type": "markdown",
      "metadata": {
        "id": "M0jGnpQsR6yu"
      },
      "source": [
        "## Task 2: Documents\n",
        "\n",
        "We'll be concerning ourselves with this part of the flow in the following section:\n",
        "\n",
        "<img src=\"https://i.imgur.com/jTm9gjk.png\" />"
      ]
    },
    {
      "cell_type": "markdown",
      "metadata": {
        "id": "-SFPWvRUR6yu"
      },
      "source": [
        "### Loading Source Documents\n",
        "\n",
        "So, first things first, we need some documents to work with.\n",
        "\n",
        "While we could work directly with the `.txt` files (or whatever file-types you wanted to extend this to) we can instead do some batch processing of those documents at the beginning in order to store them in a more machine compatible format.\n",
        "\n",
        "In this case, we're going to parse our text file into a single document in memory.\n",
        "\n",
        "Let's look at the relevant bits of the `TextFileLoader` class:\n",
        "\n",
        "```python\n",
        "def load_file(self):\n",
        "        with open(self.path, \"r\", encoding=self.encoding) as f:\n",
        "            self.documents.append(f.read())\n",
        "```\n",
        "\n",
        "We're simply loading the document using the built in `open` method, and storing that output in our `self.documents` list.\n",
        "\n",
        "> NOTE: We're using blogs from PMarca (Marc Andreessen) as our sample data. This data is largely irrelevant as we want to focus on the mechanisms of RAG, which includes out data's shape and quality - but not specifically what the contents of the data are. \n"
      ]
    },
    {
      "cell_type": "code",
      "execution_count": 30,
      "metadata": {
        "colab": {
          "base_uri": "https://localhost:8080/"
        },
        "id": "Ia2sUEuGR6yu",
        "outputId": "84937ecc-c35f-4c4a-a4ab-9da72625954c"
      },
      "outputs": [
        {
          "data": {
            "text/plain": [
              "1"
            ]
          },
          "execution_count": 30,
          "metadata": {},
          "output_type": "execute_result"
        }
      ],
      "source": [
        "text_loader = TextFileLoader(\"data/PMarcaBlogs.txt\")\n",
        "documents = text_loader.load_documents()\n",
        "len(documents)"
      ]
    },
    {
      "cell_type": "code",
      "execution_count": 31,
      "metadata": {
        "colab": {
          "base_uri": "https://localhost:8080/"
        },
        "id": "bV-tj5WFR6yu",
        "outputId": "674eb315-1ff3-4597-bcf5-38ece0a812ac"
      },
      "outputs": [
        {
          "name": "stdout",
          "output_type": "stream",
          "text": [
            "\n",
            "The Pmarca Blog Archives\n",
            "(select posts from 2007-2009)\n",
            "Marc Andreessen\n",
            "copyright: Andreessen Horow\n"
          ]
        }
      ],
      "source": [
        "print(documents[0][:100])"
      ]
    },
    {
      "cell_type": "markdown",
      "metadata": {
        "id": "nHlTvCzYR6yu"
      },
      "source": [
        "### Splitting Text Into Chunks\n",
        "\n",
        "As we can see, there is one massive document.\n",
        "\n",
        "We'll want to chunk the document into smaller parts so it's easier to pass the most relevant snippets to the LLM.\n",
        "\n",
        "There is no fixed way to split/chunk documents - and you'll need to rely on some intuition as well as knowing your data *very* well in order to build the most robust system.\n",
        "\n",
        "For this toy example, we'll just split blindly on length.\n",
        "\n",
        ">There's an opportunity to clear up some terminology here, for this course we will be stick to the following:\n",
        ">\n",
        ">- \"source documents\" : The `.txt`, `.pdf`, `.html`, ..., files that make up the files and information we start with in its raw format\n",
        ">- \"document(s)\" : single (or more) text object(s)\n",
        ">- \"corpus\" : the combination of all of our documents"
      ]
    },
    {
      "cell_type": "markdown",
      "metadata": {
        "id": "2G6Voc0jR6yv"
      },
      "source": [
        "As you can imagine (though it's not specifically true in this toy example) the idea of splitting documents is to break them into managable sized chunks that retain the most relevant local context."
      ]
    },
    {
      "cell_type": "code",
      "execution_count": 32,
      "metadata": {
        "colab": {
          "base_uri": "https://localhost:8080/"
        },
        "id": "UMC4tsEmR6yv",
        "outputId": "08689c0b-57cd-4040-942a-8193e997f5cb"
      },
      "outputs": [
        {
          "data": {
            "text/plain": [
              "373"
            ]
          },
          "execution_count": 32,
          "metadata": {},
          "output_type": "execute_result"
        }
      ],
      "source": [
        "text_splitter = CharacterTextSplitter()\n",
        "split_documents = text_splitter.split_texts(documents)\n",
        "len(split_documents)"
      ]
    },
    {
      "cell_type": "markdown",
      "metadata": {
        "id": "W2wKT0WLR6yv"
      },
      "source": [
        "Let's take a look at some of the documents we've managed to split."
      ]
    },
    {
      "cell_type": "code",
      "execution_count": 33,
      "metadata": {
        "colab": {
          "base_uri": "https://localhost:8080/"
        },
        "id": "vcYMwWJoR6yv",
        "outputId": "20d69876-feca-4826-b4be-32915276987a"
      },
      "outputs": [
        {
          "data": {
            "text/plain": [
              "['\\ufeff\\nThe Pmarca Blog Archives\\n(select posts from 2007-2009)\\nMarc Andreessen\\ncopyright: Andreessen Horowitz\\ncover design: Jessica Hagy\\nproduced using: Pressbooks\\nContents\\nTHE PMARCA GUIDE TO STARTUPS\\nPart 1: Why not to do a startup 2\\nPart 2: When the VCs say \"no\" 10\\nPart 3: \"But I don\\'t know any VCs!\" 18\\nPart 4: The only thing that matters 25\\nPart 5: The Moby Dick theory of big companies 33\\nPart 6: How much funding is too little? Too much? 41\\nPart 7: Why a startup\\'s initial business plan doesn\\'t\\nmatter that much\\n49\\nTHE PMARCA GUIDE TO HIRING\\nPart 8: Hiring, managing, promoting, and Dring\\nexecutives\\n54\\nPart 9: How to hire a professional CEO 68\\nHow to hire the best people you\\'ve ever worked\\nwith\\n69\\nTHE PMARCA GUIDE TO BIG COMPANIES\\nPart 1: Turnaround! 82\\nPart 2: Retaining great people 86\\nTHE PMARCA GUIDE TO CAREER, PRODUCTIVITY,\\nAND SOME OTHER THINGS\\nIntroduction 97\\nPart 1: Opportunity 99\\nPart 2: Skills and education 107\\nPart 3: Where to go and why 120\\nThe Pmarca Guide to Personal Productivi']"
            ]
          },
          "execution_count": 33,
          "metadata": {},
          "output_type": "execute_result"
        }
      ],
      "source": [
        "split_documents[0:1]"
      ]
    },
    {
      "cell_type": "markdown",
      "metadata": {
        "id": "HOU-RFP_R6yv"
      },
      "source": [
        "## Task 3: Embeddings and Vectors\n",
        "\n",
        "Next, we have to convert our corpus into a \"machine readable\" format as we explored in the Embedding Primer notebook.\n",
        "\n",
        "Today, we're going to talk about the actual process of creating, and then storing, these embeddings, and how we can leverage that to intelligently add context to our queries."
      ]
    },
    {
      "cell_type": "markdown",
      "metadata": {},
      "source": [
        "### OpenAI API Key\n",
        "\n",
        "In order to access OpenAI's APIs, we'll need to provide our OpenAI API Key!\n",
        "\n",
        "You can work through the folder \"OpenAI API Key Setup\" for more information on this process if you don't already have an API Key!"
      ]
    },
    {
      "cell_type": "code",
      "execution_count": 34,
      "metadata": {},
      "outputs": [],
      "source": [
        "import os\n",
        "import openai\n",
        "from getpass import getpass\n",
        "\n",
        "openai.api_key = getpass(\"OpenAI API Key: \")\n",
        "os.environ[\"OPENAI_API_KEY\"] = openai.api_key"
      ]
    },
    {
      "cell_type": "markdown",
      "metadata": {},
      "source": [
        "### Vector Database\n",
        "\n",
        "Let's set up our vector database to hold all our documents and their embeddings!"
      ]
    },
    {
      "cell_type": "markdown",
      "metadata": {
        "id": "kDQrfAR1R6yv"
      },
      "source": [
        "While this is all baked into 1 call - we can look at some of the code that powers this process to get a better understanding:\n",
        "\n",
        "Let's look at our `VectorDatabase().__init__()`:\n",
        "\n",
        "```python\n",
        "def __init__(self, embedding_model: EmbeddingModel = None):\n",
        "        self.vectors = defaultdict(np.array)\n",
        "        self.embedding_model = embedding_model or EmbeddingModel()\n",
        "```\n",
        "\n",
        "As you can see - our vectors are merely stored as a dictionary of `np.array` objects.\n",
        "\n",
        "Secondly, our `VectorDatabase()` has a default `EmbeddingModel()` which is a wrapper for OpenAI's `text-embedding-3-small` model.\n",
        "\n",
        "> **Quick Info About `text-embedding-3-small`**:\n",
        "> - It has a context window of **8191** tokens\n",
        "> - It returns vectors with dimension **1536**"
      ]
    },
    {
      "cell_type": "markdown",
      "metadata": {
        "id": "L273pRdeR6yv"
      },
      "source": [
        "#### ❓Question #1:\n",
        "\n",
        "The default embedding dimension of `text-embedding-3-small` is 1536, as noted above. \n",
        "\n",
        "1. Is there any way to modify this dimension?\n",
        "2. What technique does OpenAI use to achieve this?\n",
        "\n",
        "> NOTE: Check out this [API documentation](https://platform.openai.com/docs/api-reference/embeddings/create) for the answer to question #1.1, and [this documentation](https://platform.openai.com/docs/guides/embeddings/use-cases) for an answer to question #1.2!\n",
        " \n"
      ]
    },
    {
      "cell_type": "markdown",
      "metadata": {},
      "source": [
        "##### ✅ Answer:\n",
        "1. **Yes** — with the new embedding models (`text-embedding-3-small` and `text-embedding-3-large`), you can change the embedding size by using the `dimensions` parameter in the embeddings API request. By default, `text-embedding-3-small` outputs vectors of length 1536 and `text-embedding-3-large` outputs 3072, but you can request a smaller size (e.g., 256, 512, 1024) to reduce cost and storage requirements. \n",
        "2. OpenAI achieves this flexibility through a **specialized training technique**:Matryoshka Representation Learning (see [arXiv:2205.13147](https://arxiv.org/abs/2205.13147)) that allows embeddings to be shortened without losing their semantic meaning. Essentially, the embeddings are trained so that truncating dimensions still preserves most of their representational power. This lets developers trade off between performance and efficiency depending on their application needs.  "
      ]
    },
    {
      "cell_type": "markdown",
      "metadata": {
        "id": "w5FZY7K3R6yv"
      },
      "source": [
        "We can call the `async_get_embeddings` method of our `EmbeddingModel()` on a list of `str` and receive a list of `float` back!\n",
        "\n",
        "```python\n",
        "async def async_get_embeddings(self, list_of_text: List[str]) -> List[List[float]]:\n",
        "        return await aget_embeddings(\n",
        "            list_of_text=list_of_text, engine=self.embeddings_model_name\n",
        "        )\n",
        "```"
      ]
    },
    {
      "cell_type": "markdown",
      "metadata": {
        "id": "cSct6X0aR6yv"
      },
      "source": [
        "We cast those to `np.array` when we build our `VectorDatabase()`:\n",
        "\n",
        "```python\n",
        "async def abuild_from_list(self, list_of_text: List[str]) -> \"VectorDatabase\":\n",
        "        embeddings = await self.embedding_model.async_get_embeddings(list_of_text)\n",
        "        for text, embedding in zip(list_of_text, embeddings):\n",
        "            self.insert(text, np.array(embedding))\n",
        "        return self\n",
        "```\n",
        "\n",
        "And that's all we need to do!"
      ]
    },
    {
      "cell_type": "code",
      "execution_count": 35,
      "metadata": {
        "id": "O4KoLbVDR6yv"
      },
      "outputs": [],
      "source": [
        "vector_db = VectorDatabase()\n",
        "vector_db = asyncio.run(vector_db.abuild_from_list(split_documents))"
      ]
    },
    {
      "cell_type": "markdown",
      "metadata": {
        "id": "SSZwaGvpR6yv"
      },
      "source": [
        "#### ❓Question #2:\n",
        "\n",
        "What are the benefits of using an `async` approach to collecting our embeddings?\n",
        "\n",
        "> NOTE: Determining the core difference between `async` and `sync` will be useful! If you get stuck - ask ChatGPT!"
      ]
    },
    {
      "cell_type": "markdown",
      "metadata": {},
      "source": [
        "##### ✅ Answer: \n",
        "Using an **async approach** to collect embeddings means requests don’t block each other — your program can send many requests at once and keep working while waiting for responses.  \n",
        "\n",
        "**Benefits:**  \n",
        "- 🚀 **Faster throughput:** Multiple embedding requests can run in parallel instead of waiting one by one.  \n",
        "- 💻 **Better resource usage:** CPU and network are used more efficiently since idle “waiting time” is avoided.  \n",
        "- 📈 **Scales better:** Async code handles larger batches of text (e.g., thousands of documents) without slowing down as much as sync code.  \n",
        "\n",
        "In contrast, a **sync approach** processes one request at a time and waits for it to finish before starting the next, which can be significantly slower for large workloads.  \n",
        "\n"
      ]
    },
    {
      "cell_type": "markdown",
      "metadata": {
        "id": "nRBdIt-xR6yw"
      },
      "source": [
        "So, to review what we've done so far in natural language:\n",
        "\n",
        "1. We load source documents\n",
        "2. We split those source documents into smaller chunks (documents)\n",
        "3. We send each of those documents to the `text-embedding-3-small` OpenAI API endpoint\n",
        "4. We store each of the text representations with the vector representations as keys/values in a dictionary"
      ]
    },
    {
      "cell_type": "markdown",
      "metadata": {
        "id": "4-vWANZyR6yw"
      },
      "source": [
        "### Semantic Similarity\n",
        "\n",
        "The next step is to be able to query our `VectorDatabase()` with a `str` and have it return to us vectors and text that is most relevant from our corpus.\n",
        "\n",
        "We're going to use the following process to achieve this in our toy example:\n",
        "\n",
        "1. We need to embed our query with the same `EmbeddingModel()` as we used to construct our `VectorDatabase()`\n",
        "2. We loop through every vector in our `VectorDatabase()` and use a distance measure to compare how related they are\n",
        "3. We return a list of the top `k` closest vectors, with their text representations\n",
        "\n",
        "There's some very heavy optimization that can be done at each of these steps - but let's just focus on the basic pattern in this notebook.\n",
        "\n",
        "> We are using [cosine similarity](https://www.engati.com/glossary/cosine-similarity) as a distance metric in this example - but there are many many distance metrics you could use - like [these](https://flavien-vidal.medium.com/similarity-distances-for-natural-language-processing-16f63cd5ba55)\n",
        "\n",
        "> We are using a rather inefficient way of calculating relative distance between the query vector and all other vectors - there are more advanced approaches that are much more efficient, like [ANN](https://towardsdatascience.com/comprehensive-guide-to-approximate-nearest-neighbors-algorithms-8b94f057d6b6)"
      ]
    },
    {
      "cell_type": "code",
      "execution_count": 36,
      "metadata": {
        "colab": {
          "base_uri": "https://localhost:8080/"
        },
        "id": "76d96uavR6yw",
        "outputId": "bbfccc31-20a2-41c7-c14d-46554a43ed2d"
      },
      "outputs": [
        {
          "data": {
            "text/plain": [
              "[('ordingly.\\nSeventh, when hiring the executive to run your former specialty, be\\ncareful you don’t hire someone weak on purpose.\\nThis sounds silly, but you wouldn’t believe how oaen it happens.\\nThe CEO who used to be a product manager who has a weak\\nproduct management executive. The CEO who used to be in\\nsales who has a weak sales executive. The CEO who used to be\\nin marketing who has a weak marketing executive.\\nI call this the “Michael Eisner Memorial Weak Executive Problem” — aaer the CEO of Disney who had previously been a brilliant TV network executive. When he bought ABC at Disney, it\\npromptly fell to fourth place. His response? “If I had an extra\\ntwo days a week, I could turn around ABC myself.” Well, guess\\nwhat, he didn’t have an extra two days a week.\\nA CEO — or a startup founder — oaen has a hard time letting\\ngo of the function that brought him to the party. The result: you\\nhire someone weak into the executive role for that function so\\nthat you can continue to be “the man” — cons',\n",
              "  np.float64(0.6538563767462546)),\n",
              " ('m. They have areas where they are truly deXcient in judgment or skill set. That’s just life. Almost nobody is brilliant\\nat everything. When hiring and when Hring executives, you\\nmust therefore focus on strength rather than lack of weakness. Everybody has severe weaknesses even if you can’t see\\nthem yet. When managing, it’s oaen useful to micromanage and\\nto provide remedial training around these weaknesses. Doing so\\nmay make the diWerence between an executive succeeding or\\nfailing.\\nFor example, you might have a brilliant engineering executive\\nwho generates excellent team loyalty, has terriXc product judgment and makes the trains run on time. This same executive\\nmay be very poor at relating to the other functions in the company. She may generate far more than her share of cross-functional conYicts, cut herself oW from critical information, and\\nsigniXcantly impede your ability to sell and market eWectively.\\nYour alternatives are:\\n(a) Macro-manage and give her an annual or quarterly object',\n",
              "  np.float64(0.5036012174947994)),\n",
              " ('ed?\\nIn reality — as opposed to Marc’s warped view of reality — it will\\nbe extremely helpful for Marc [if he were actually the CEO,\\nwhich he is not] to meet with the new head of engineering daily\\nwhen she comes on board and review all of her thinking and\\ndecisions. This level of micromanagement will accelerate her\\ntraining and improve her long-term eWectiveness. It will make\\nher seem smarter to the rest of the organization which will build\\ncredibility and conXdence while she comes up to speed. Micromanaging new executives is generally a good idea for a limited\\nperiod of time.\\nHowever, that is not the only time that it makes sense to micro66 The Pmarca Blog Archives\\nmanage executives. It turns out that just about every executive\\nin the world has a few things that are seriously wrong with\\nthem. They have areas where they are truly deXcient in judgment or skill set. That’s just life. Almost nobody is brilliant\\nat everything. When hiring and when Hring executives, you\\nmust therefore focus o',\n",
              "  np.float64(0.48141025949775296))]"
            ]
          },
          "execution_count": 36,
          "metadata": {},
          "output_type": "execute_result"
        }
      ],
      "source": [
        "vector_db.search_by_text(\"What is the Michael Eisner Memorial Weak Executive Problem?\", k=3)"
      ]
    },
    {
      "cell_type": "markdown",
      "metadata": {
        "id": "TehsfIiKR6yw"
      },
      "source": [
        "## Task 4: Prompts\n",
        "\n",
        "In the following section, we'll be looking at the role of prompts - and how they help us to guide our application in the right direction.\n",
        "\n",
        "In this notebook, we're going to rely on the idea of \"zero-shot in-context learning\".\n",
        "\n",
        "This is a lot of words to say: \"We will ask it to perform our desired task in the prompt, and provide no examples.\""
      ]
    },
    {
      "cell_type": "markdown",
      "metadata": {
        "id": "yXpA0UveR6yw"
      },
      "source": [
        "### XYZRolePrompt\n",
        "\n",
        "Before we do that, let's stop and think a bit about how OpenAI's chat models work.\n",
        "\n",
        "We know they have roles - as is indicated in the following API [documentation](https://platform.openai.com/docs/api-reference/chat/create#chat/create-messages)\n",
        "\n",
        "There are three roles, and they function as follows (taken directly from [OpenAI](https://platform.openai.com/docs/guides/gpt/chat-completions-api)):\n",
        "\n",
        "- `{\"role\" : \"system\"}` : The system message helps set the behavior of the assistant. For example, you can modify the personality of the assistant or provide specific instructions about how it should behave throughout the conversation. However note that the system message is optional and the model’s behavior without a system message is likely to be similar to using a generic message such as \"You are a helpful assistant.\"\n",
        "- `{\"role\" : \"user\"}` : The user messages provide requests or comments for the assistant to respond to.\n",
        "- `{\"role\" : \"assistant\"}` : Assistant messages store previous assistant responses, but can also be written by you to give examples of desired behavior.\n",
        "\n",
        "The main idea is this:\n",
        "\n",
        "1. You start with a system message that outlines how the LLM should respond, what kind of behaviours you can expect from it, and more\n",
        "2. Then, you can provide a few examples in the form of \"assistant\"/\"user\" pairs\n",
        "3. Then, you prompt the model with the true \"user\" message.\n",
        "\n",
        "In this example, we'll be forgoing the 2nd step for simplicities sake."
      ]
    },
    {
      "cell_type": "markdown",
      "metadata": {
        "id": "gdZ2KWKSR6yw"
      },
      "source": [
        "#### Utility Functions\n",
        "\n",
        "You'll notice that we're using some utility functions from the `aimakerspace` module - let's take a peek at these and see what they're doing!"
      ]
    },
    {
      "cell_type": "markdown",
      "metadata": {
        "id": "GFbeJDDsR6yw"
      },
      "source": [
        "##### XYZRolePrompt"
      ]
    },
    {
      "cell_type": "markdown",
      "metadata": {
        "id": "5mojJSE3R6yw"
      },
      "source": [
        "Here we have our `system`, `user`, and `assistant` role prompts.\n",
        "\n",
        "Let's take a peek at what they look like:\n",
        "\n",
        "```python\n",
        "class BasePrompt:\n",
        "    def __init__(self, prompt):\n",
        "        \"\"\"\n",
        "        Initializes the BasePrompt object with a prompt template.\n",
        "\n",
        "        :param prompt: A string that can contain placeholders within curly braces\n",
        "        \"\"\"\n",
        "        self.prompt = prompt\n",
        "        self._pattern = re.compile(r\"\\{([^}]+)\\}\")\n",
        "\n",
        "    def format_prompt(self, **kwargs):\n",
        "        \"\"\"\n",
        "        Formats the prompt string using the keyword arguments provided.\n",
        "\n",
        "        :param kwargs: The values to substitute into the prompt string\n",
        "        :return: The formatted prompt string\n",
        "        \"\"\"\n",
        "        matches = self._pattern.findall(self.prompt)\n",
        "        return self.prompt.format(**{match: kwargs.get(match, \"\") for match in matches})\n",
        "\n",
        "    def get_input_variables(self):\n",
        "        \"\"\"\n",
        "        Gets the list of input variable names from the prompt string.\n",
        "\n",
        "        :return: List of input variable names\n",
        "        \"\"\"\n",
        "        return self._pattern.findall(self.prompt)\n",
        "```\n",
        "\n",
        "Then we have our `RolePrompt` which laser focuses us on the role pattern found in most API endpoints for LLMs.\n",
        "\n",
        "```python\n",
        "class RolePrompt(BasePrompt):\n",
        "    def __init__(self, prompt, role: str):\n",
        "        \"\"\"\n",
        "        Initializes the RolePrompt object with a prompt template and a role.\n",
        "\n",
        "        :param prompt: A string that can contain placeholders within curly braces\n",
        "        :param role: The role for the message ('system', 'user', or 'assistant')\n",
        "        \"\"\"\n",
        "        super().__init__(prompt)\n",
        "        self.role = role\n",
        "\n",
        "    def create_message(self, **kwargs):\n",
        "        \"\"\"\n",
        "        Creates a message dictionary with a role and a formatted message.\n",
        "\n",
        "        :param kwargs: The values to substitute into the prompt string\n",
        "        :return: Dictionary containing the role and the formatted message\n",
        "        \"\"\"\n",
        "        return {\"role\": self.role, \"content\": self.format_prompt(**kwargs)}\n",
        "```\n",
        "\n",
        "We'll look at how the `SystemRolePrompt` is constructed to get a better idea of how that extension works:\n",
        "\n",
        "```python\n",
        "class SystemRolePrompt(RolePrompt):\n",
        "    def __init__(self, prompt: str):\n",
        "        super().__init__(prompt, \"system\")\n",
        "```\n",
        "\n",
        "That pattern is repeated for our `UserRolePrompt` and our `AssistantRolePrompt` as well."
      ]
    },
    {
      "cell_type": "markdown",
      "metadata": {
        "id": "D361R6sMR6yw"
      },
      "source": [
        "##### ChatOpenAI"
      ]
    },
    {
      "cell_type": "markdown",
      "metadata": {
        "id": "HJVQ2Pm8R6yw"
      },
      "source": [
        "Next we have our model, which is converted to a format analagous to libraries like LangChain and LlamaIndex.\n",
        "\n",
        "Let's take a peek at how that is constructed:\n",
        "\n",
        "```python\n",
        "class ChatOpenAI:\n",
        "    def __init__(self, model_name: str = \"gpt-4.1-mini\"):\n",
        "        self.model_name = model_name\n",
        "        self.openai_api_key = os.getenv(\"OPENAI_API_KEY\")\n",
        "        if self.openai_api_key is None:\n",
        "            raise ValueError(\"OPENAI_API_KEY is not set\")\n",
        "\n",
        "    def run(self, messages, text_only: bool = True):\n",
        "        if not isinstance(messages, list):\n",
        "            raise ValueError(\"messages must be a list\")\n",
        "\n",
        "        openai.api_key = self.openai_api_key\n",
        "        response = openai.ChatCompletion.create(\n",
        "            model=self.model_name, messages=messages\n",
        "        )\n",
        "\n",
        "        if text_only:\n",
        "            return response.choices[0].message.content\n",
        "\n",
        "        return response\n",
        "```"
      ]
    },
    {
      "cell_type": "markdown",
      "metadata": {
        "id": "qCU7FfhIR6yw"
      },
      "source": [
        "#### ❓ Question #3:\n",
        "\n",
        "When calling the OpenAI API - are there any ways we can achieve more reproducible outputs?\n",
        "\n",
        "> NOTE: Check out [this section](https://platform.openai.com/docs/guides/text-generation/) of the OpenAI documentation for the answer!"
      ]
    },
    {
      "cell_type": "markdown",
      "metadata": {},
      "source": [
        "##### ✅ Answer:\n",
        "According to the docs the main way to get reproducibility is to lock your app to a specific model snapshot and track prompt performance with evals.\n"
      ]
    },
    {
      "cell_type": "markdown",
      "metadata": {
        "id": "c5wcjMLCR6yw"
      },
      "source": [
        "### Creating and Prompting OpenAI's `gpt-4.1-mini`!\n",
        "\n",
        "Let's tie all these together and use it to prompt `gpt-4.1-mini`!"
      ]
    },
    {
      "cell_type": "code",
      "execution_count": 37,
      "metadata": {
        "id": "WIfpIot7R6yw"
      },
      "outputs": [],
      "source": [
        "from aimakerspace.openai_utils.prompts import (\n",
        "    UserRolePrompt,\n",
        "    SystemRolePrompt,\n",
        "    AssistantRolePrompt,\n",
        ")\n",
        "\n",
        "from aimakerspace.openai_utils.chatmodel import ChatOpenAI\n",
        "\n",
        "chat_openai = ChatOpenAI()\n",
        "user_prompt_template = \"{content}\"\n",
        "user_role_prompt = UserRolePrompt(user_prompt_template)\n",
        "system_prompt_template = (\n",
        "    \"You are an expert in {expertise}, you always answer in a kind way.\"\n",
        ")\n",
        "system_role_prompt = SystemRolePrompt(system_prompt_template)\n",
        "\n",
        "messages = [\n",
        "    system_role_prompt.create_message(expertise=\"Python\"),\n",
        "    user_role_prompt.create_message(\n",
        "        content=\"What is the best way to write a loop?\"\n",
        "    ),\n",
        "]\n",
        "\n",
        "response = chat_openai.run(messages)"
      ]
    },
    {
      "cell_type": "code",
      "execution_count": 38,
      "metadata": {
        "colab": {
          "base_uri": "https://localhost:8080/"
        },
        "id": "dHo7lssNR6yw",
        "outputId": "1d3823fa-bb6b-45f6-ddba-b41686388324"
      },
      "outputs": [
        {
          "name": "stdout",
          "output_type": "stream",
          "text": [
            "Hello! The \"best\" way to write a loop in Python often depends on what you need to accomplish. However, Python’s most common and clean looping construct is the `for` loop, especially when iterating over sequences (like lists, tuples, strings, or ranges).\n",
            "\n",
            "Here’s a simple and clear example:\n",
            "\n",
            "```python\n",
            "for item in iterable:\n",
            "    # do something with item\n",
            "```\n",
            "\n",
            "For example, if you want to print numbers from 1 to 5:\n",
            "\n",
            "```python\n",
            "for i in range(1, 6):\n",
            "    print(i)\n",
            "```\n",
            "\n",
            "If you need to write a loop that runs while a certain condition is true, the `while` loop is appropriate:\n",
            "\n",
            "```python\n",
            "count = 1\n",
            "while count <= 5:\n",
            "    print(count)\n",
            "    count += 1\n",
            "```\n",
            "\n",
            "If you give me more context about your specific task, I’d be happy to help you write the most suitable loop!\n"
          ]
        }
      ],
      "source": [
        "print(response)"
      ]
    },
    {
      "cell_type": "markdown",
      "metadata": {
        "id": "r2nxxhB2R6yy"
      },
      "source": [
        "## Task 5: Retrieval Augmented Generation\n",
        "\n",
        "Now we can create a RAG prompt - which will help our system behave in a way that makes sense!\n",
        "\n",
        "There is much you could do here, many tweaks and improvements to be made!"
      ]
    },
    {
      "cell_type": "code",
      "execution_count": 39,
      "metadata": {
        "id": "D1hamzGaR6yy"
      },
      "outputs": [],
      "source": [
        "RAG_SYSTEM_TEMPLATE = \"\"\"You are a knowledgeable assistant that answers questions based strictly on provided context.\n",
        "\n",
        "Instructions:\n",
        "- Only answer questions using information from the provided context\n",
        "- If the context doesn't contain relevant information, respond with \"I don't know\"\n",
        "- Be accurate and cite specific parts of the context when possible\n",
        "- Keep responses {response_style} and {response_length}\n",
        "- Only use the provided context. Do not use external knowledge.\n",
        "- Only provide answers when you are confident the context supports your response.\"\"\"\n",
        "\n",
        "RAG_USER_TEMPLATE = \"\"\"Context Information:\n",
        "{context}\n",
        "\n",
        "Number of relevant sources found: {context_count}\n",
        "{similarity_scores}\n",
        "\n",
        "Question: {user_query}\n",
        "\n",
        "Please provide your answer based solely on the context above.\"\"\"\n",
        "\n",
        "rag_system_prompt = SystemRolePrompt(\n",
        "    RAG_SYSTEM_TEMPLATE,\n",
        "    strict=True,\n",
        "    defaults={\n",
        "        \"response_style\": \"concise\",\n",
        "        \"response_length\": \"brief\"\n",
        "    }\n",
        ")\n",
        "\n",
        "rag_user_prompt = UserRolePrompt(\n",
        "    RAG_USER_TEMPLATE,\n",
        "    strict=True,\n",
        "    defaults={\n",
        "        \"context_count\": \"\",\n",
        "        \"similarity_scores\": \"\"\n",
        "    }\n",
        ")"
      ]
    },
    {
      "cell_type": "markdown",
      "metadata": {},
      "source": [
        "Now we can create our pipeline!"
      ]
    },
    {
      "cell_type": "code",
      "execution_count": 40,
      "metadata": {},
      "outputs": [],
      "source": [
        "class RetrievalAugmentedQAPipeline:\n",
        "    def __init__(self, llm: ChatOpenAI, vector_db_retriever: VectorDatabase, \n",
        "                 response_style: str = \"detailed\", include_scores: bool = False) -> None:\n",
        "        self.llm = llm\n",
        "        self.vector_db_retriever = vector_db_retriever\n",
        "        self.response_style = response_style\n",
        "        self.include_scores = include_scores\n",
        "\n",
        "    def run_pipeline(self, user_query: str, k: int = 4, **system_kwargs) -> dict:\n",
        "        # Retrieve relevant contexts\n",
        "        context_list = self.vector_db_retriever.search_by_text(user_query, k=k)\n",
        "        \n",
        "        context_prompt = \"\"\n",
        "        similarity_scores = []\n",
        "        \n",
        "        for i, (context, score) in enumerate(context_list, 1):\n",
        "            context_prompt += f\"[Source {i}]: {context}\\n\\n\"\n",
        "            similarity_scores.append(f\"Source {i}: {score:.3f}\")\n",
        "        \n",
        "        # Create system message with parameters\n",
        "        system_params = {\n",
        "            \"response_style\": self.response_style,\n",
        "            \"response_length\": system_kwargs.get(\"response_length\", \"detailed\")\n",
        "        }\n",
        "        \n",
        "        formatted_system_prompt = rag_system_prompt.create_message(**system_params)\n",
        "        \n",
        "        user_params = {\n",
        "            \"user_query\": user_query,\n",
        "            \"context\": context_prompt.strip(),\n",
        "            \"context_count\": len(context_list),\n",
        "            \"similarity_scores\": f\"Relevance scores: {', '.join(similarity_scores)}\" if self.include_scores else \"\"\n",
        "        }\n",
        "        \n",
        "        formatted_user_prompt = rag_user_prompt.create_message(**user_params)\n",
        "\n",
        "        return {\n",
        "            \"response\": self.llm.run([formatted_system_prompt, formatted_user_prompt]), \n",
        "            \"context\": context_list,\n",
        "            \"context_count\": len(context_list),\n",
        "            \"similarity_scores\": similarity_scores if self.include_scores else None,\n",
        "            \"prompts_used\": {\n",
        "                \"system\": formatted_system_prompt,\n",
        "                \"user\": formatted_user_prompt\n",
        "            }\n",
        "        }"
      ]
    },
    {
      "cell_type": "code",
      "execution_count": 41,
      "metadata": {},
      "outputs": [
        {
          "name": "stdout",
          "output_type": "stream",
          "text": [
            "Response: The \"Michael Eisner Memorial Weak Executive Problem\" refers to a situation where a CEO or startup founder, who used to lead a particular functional area (such as product management, sales, or marketing), ends up hiring a weak executive to run that same function after they have moved on to the CEO role. This happens because the CEO has difficulty letting go of the function that originally brought them success and wants to remain \"the man\" in that area, so they deliberately or unconsciously hire someone weak for that executive role to maintain control. The name comes from Michael Eisner, the former CEO of Disney, who had been a brilliant TV network executive but, after acquiring ABC, the network fell to fourth place. Eisner’s response was to say that if he had extra time, he could personally turn around ABC instead of relying on the executives he hired. This illustrates the problem of not empowering strong executives in the CEO’s former specialty. (Source 1)\n",
            "\n",
            "Context Count: 3\n",
            "Similarity Scores: ['Source 1: 0.658', 'Source 2: 0.509', 'Source 3: 0.479']\n"
          ]
        }
      ],
      "source": [
        "rag_pipeline = RetrievalAugmentedQAPipeline(\n",
        "    vector_db_retriever=vector_db,\n",
        "    llm=chat_openai,\n",
        "    response_style=\"detailed\",\n",
        "    include_scores=True\n",
        ")\n",
        "\n",
        "result = rag_pipeline.run_pipeline(\n",
        "    \"What is the 'Michael Eisner Memorial Weak Executive Problem'?\",\n",
        "    k=3,\n",
        "    response_length=\"comprehensive\", \n",
        "    include_warnings=True,\n",
        "    confidence_required=True\n",
        ")\n",
        "\n",
        "print(f\"Response: {result['response']}\")\n",
        "print(f\"\\nContext Count: {result['context_count']}\")\n",
        "print(f\"Similarity Scores: {result['similarity_scores']}\")"
      ]
    },
    {
      "cell_type": "markdown",
      "metadata": {
        "id": "zZIJI19uR6yz"
      },
      "source": [
        "#### ❓ Question #4:\n",
        "\n",
        "What prompting strategies could you use to make the LLM have a more thoughtful, detailed response?\n",
        "\n",
        "What is that strategy called?\n",
        "\n",
        "> NOTE: You can look through our [OpenAI Responses API](https://colab.research.google.com/drive/14SCfRnp39N7aoOx8ZxadWb0hAqk4lQdL?usp=sharing) notebook for an answer to this question if you get stuck!"
      ]
    },
    {
      "cell_type": "markdown",
      "metadata": {},
      "source": [
        "##### ✅ Answer:\n",
        "\n",
        "\n",
        "From the notebook, one clear strategy to get **more thoughtful, detailed responses** is to adjust the **`reasoning` parameter**.\n",
        "\n",
        "- **Example from the notebook:**\n",
        "\n",
        "```python\n",
        "response = client.responses.create(\n",
        "    model=\"gpt-5\",\n",
        "    reasoning={\"effort\": \"low\"},\n",
        "    instructions=\"Talk like a wizard.\",\n",
        "    input=\"How to write an efficient loop with NumPy?\",\n",
        ")\n",
        "\n",
        "Here, reasoning={\"effort\": \"low\"} directly controls how much computational effort the model uses when generating its reasoning.\n",
        "By increasing the effort (e.g., \"medium\" or \"high\"), you prompt the model to deliver more detailed, step-by-step explanations instead of quick, shallow answers.\n",
        "\n",
        "✨ This prompting strategy is called Reasoning Control (related to Chain-of-Thought prompting), since it guides how much effort the model invests in reasoning before producing its output.\n"
      ]
    },
    {
      "cell_type": "markdown",
      "metadata": {},
      "source": [
        "### 🏗️ Activity #1:\n",
        "\n",
        "Enhance your RAG application in some way! \n",
        "\n",
        "Suggestions are: \n",
        "\n",
        "- Allow it to work with PDF files\n",
        "- Implement a new distance metric\n",
        "- Add metadata support to the vector database\n",
        "- Use a different embedding model\n",
        "- Add the capability to ingest a YouTube link\n",
        "\n",
        "While these are suggestions, you should feel free to make whatever augmentations you desire! If you shared an idea during Session 1, think about features you might need to incorporate for your use case! \n",
        "\n",
        "When you're finished making the augments to your RAG application - vibe check it against the old one - see if you can \"feel the improvement\"!\n",
        "\n",
        "> NOTE: These additions might require you to work within the `aimakerspace` library - that's expected!\n",
        "\n",
        "> NOTE: If you're not sure where to start - ask Cursor (CMD/CTRL+L) to guide you through the changes!"
      ]
    },
    {
      "cell_type": "code",
      "execution_count": 43,
      "metadata": {},
      "outputs": [
        {
          "name": "stdout",
          "output_type": "stream",
          "text": [
            "🎉 Welcome to the ANN-Enhanced RAG Application! 🎉\n",
            "============================================================\n",
            "\n",
            "🔍 ANN ENHANCEMENT: Approximate Nearest Neighbors\n",
            "--------------------------------------------------\n",
            "✅ Successfully installed faiss-cpu\n",
            "✅ Successfully installed annoy\n",
            "✅ ANN libraries installed and imported!\n",
            "\n",
            "🗄️ ANN-BASED VECTOR DATABASE\n",
            "--------------------------------------------------\n",
            "✅ ANN Vector Database class ready!\n",
            "\n",
            "⚡ ANN PERFORMANCE COMPARISON\n",
            "--------------------------------------------------\n",
            "✅ ANN Performance Tester ready!\n",
            "\n",
            "🚀 DEMONSTRATION: ANN-Enhanced RAG Pipeline\n",
            "============================================================\n",
            "\n",
            "1. Loading documents...\n",
            "   ✅ Loaded 1 documents\n",
            "\n",
            "2. Creating text chunks...\n",
            "   ✅ Created 745 chunks\n",
            "\n",
            "3. Testing ANN methods...\n",
            "🔍 Comparing ANN methods with 745 vectors...\n",
            "\n",
            "📊 Testing FAISS...\n",
            "✅ FAISS IndexFlatIP initialized for cosine similarity\n",
            "🔄 Building ANN database with 745 texts...\n",
            "✅ ANN database built with 745 vectors using FAISS\n",
            "\n",
            "📊 Testing Annoy...\n",
            "✅ Annoy index initialized for cosine similarity\n",
            "🔄 Building ANN database with 745 texts...\n",
            "✅ Annoy index built with 745 vectors\n",
            "✅ ANN database built with 745 vectors using ANNOY\n",
            "\n",
            "📈 PERFORMANCE COMPARISON:\n",
            "Method     Build Time   Search Time  Vectors \n",
            "--------------------------------------------------\n",
            "FAISS      3.294s      0.279502s      745     \n",
            "Annoy      3.945s      0.264483s      745     \n",
            "\n",
            "🔍 Query: 'What is the Michael Eisner problem?'\n",
            "\n",
            "📊 FAISS Results:\n",
            "   1. Score: 0.6320 | Text: g executive.\n",
            "I call this the “Michael Eisner Memorial Weak Executive Problem” — aaer the CEO of Disn...\n",
            "   2. Score: 0.4560 | Text: ordingly.\n",
            "Seventh, when hiring the executive to run your former specialty, be\n",
            "careful you don’t hire...\n",
            "   3. Score: 0.3775 | Text: ummy\n",
            "decision is no fun to work for. However, it is wrong to condemn\n",
            "the practice of micromanagement...\n",
            "\n",
            "📊 Annoy Results:\n",
            "   1. Score: 0.1421 | Text: g executive.\n",
            "I call this the “Michael Eisner Memorial Weak Executive Problem” — aaer the CEO of Disn...\n",
            "   2. Score: -0.0430 | Text: ordingly.\n",
            "Seventh, when hiring the executive to run your former specialty, be\n",
            "careful you don’t hire...\n",
            "   3. Score: -0.1158 | Text: ummy\n",
            "decision is no fun to work for. However, it is wrong to condemn\n",
            "the practice of micromanagement...\n",
            "\n",
            "🎯 ANN-ENHANCED RAG PIPELINE\n",
            "============================================================\n",
            "\n",
            "4. Testing ANN-Enhanced RAG Pipeline...\n",
            "🔄 Building ANN-enhanced pipeline with FAISS...\n",
            "✅ FAISS IndexFlatIP initialized for cosine similarity\n",
            "🔄 Building ANN database with 745 texts...\n",
            "✅ ANN database built with 745 vectors using FAISS\n",
            "✅ Pipeline built with 745 vectors\n",
            "\n",
            "🤖 ANN-Enhanced Response:\n",
            "Response: The \"Michael Eisner Memorial Weak Executive Problem,\" as described in the context, refers to a common issue where a CEO or startup founder struggles to let go of the specific functional area that originally brought them success and their leadership role. This problem manifests when such leaders deliberately hire weak executives to run the area they used to manage themselves.\n",
            "\n",
            "For example:\n",
            "- A CEO who used to be a product manager may hire a weak product management executive.\n",
            "- A CEO who used to be in sales may hire a weak sales executive.\n",
            "- A CEO who used to be in marketing may hire a weak marketing executive.\n",
            "\n",
            "The naming of this problem comes from Michael Eisner, the former CEO of Disney. Michael Eisner had been a brilliant TV network executive before becoming CEO of Disney. When Disney acquired ABC, the TV network promptly fell to fourth place under his leadership. Eisner's response was to say, “If I had an extra two days a week, I could turn around ABC myself.” However, he did not have that extra time, implying he couldn't effectively manage both the CEO role and directly run the specialty function.\n",
            "\n",
            "This problem highlights that CEOs often cannot or do not entrust strong executives to lead the functions they once handled, thereby potentially weakening those parts of their organization and hampering overall performance.\n",
            "\n",
            "Context Sources: 3\n",
            "ANN Method: FAISS\n",
            "\n",
            "============================================================\n",
            "🎉 ANN-ENHANCED RAG APPLICATION COMPLETE! 🎉\n",
            "============================================================\n",
            "\n",
            "✨ ANN ENHANCEMENTS IMPLEMENTED:\n",
            "   🔍 FAISS-based approximate nearest neighbors\n",
            "   🌳 Annoy-based tree search\n",
            "   ⚡ Fast similarity search for large datasets\n",
            "   📊 Performance comparison between methods\n",
            "   💾 Index persistence (save/load)\n",
            "   🚀 Scalable vector database\n",
            "\n",
            "🚀 Your RAG application now uses state-of-the-art ANN for lightning-fast search!\n",
            "   Perfect for production systems with millions of vectors!\n",
            "   Try different ANN methods to find the best performance for your use case!\n"
          ]
        }
      ],
      "source": [
        "### YOUR CODE HERE\n",
        "# 🚀 ANN-ENHANCED RAG APPLICATION - APPROXIMATE NEAREST NEIGHBORS! 🚀\n",
        "\n",
        "print(\"🎉 Welcome to the ANN-Enhanced RAG Application! 🎉\")\n",
        "print(\"=\" * 60)\n",
        "\n",
        "# =============================================================================\n",
        "# ANN IMPLEMENTATION: FAISS + ANNOY\n",
        "# =============================================================================\n",
        "print(\"\\n🔍 ANN ENHANCEMENT: Approximate Nearest Neighbors\")\n",
        "print(\"-\" * 50)\n",
        "\n",
        "# Install ANN libraries\n",
        "import subprocess\n",
        "import sys\n",
        "\n",
        "def install_package(package):\n",
        "    try:\n",
        "        subprocess.check_call([sys.executable, \"-m\", \"pip\", \"install\", package])\n",
        "        print(f\"✅ Successfully installed {package}\")\n",
        "    except:\n",
        "        print(f\"⚠️  Could not install {package} - continuing anyway\")\n",
        "\n",
        "# Install ANN packages\n",
        "install_package(\"faiss-cpu\")\n",
        "install_package(\"annoy\")\n",
        "\n",
        "# Import ANN libraries\n",
        "import numpy as np\n",
        "import time\n",
        "from typing import List, Dict, Any, Optional, Tuple\n",
        "import faiss\n",
        "from annoy import AnnoyIndex\n",
        "import pickle\n",
        "import os\n",
        "from aimakerspace.openai_utils.embedding import EmbeddingModel\n",
        "\n",
        "print(\"✅ ANN libraries installed and imported!\")\n",
        "\n",
        "# =============================================================================\n",
        "# ANN-BASED VECTOR DATABASE\n",
        "# =============================================================================\n",
        "print(\"\\n🗄️ ANN-BASED VECTOR DATABASE\")\n",
        "print(\"-\" * 50)\n",
        "\n",
        "class ANNVectorDatabase:\n",
        "    \"\"\"Vector database using Approximate Nearest Neighbors for fast similarity search\"\"\"\n",
        "    \n",
        "    def __init__(self, embedding_model=None, ann_method: str = \"faiss\", dimension: int = 1536):\n",
        "        self.embedding_model = embedding_model or EmbeddingModel()\n",
        "        self.ann_method = ann_method.lower()\n",
        "        self.dimension = dimension\n",
        "        self.vectors = []\n",
        "        self.texts = []\n",
        "        self.metadata = []\n",
        "        self.index = None\n",
        "        self.is_built = False\n",
        "        self.created_at = time.time()\n",
        "        \n",
        "        # Initialize ANN index based on method\n",
        "        if self.ann_method == \"faiss\":\n",
        "            self._init_faiss_index()\n",
        "        elif self.ann_method == \"annoy\":\n",
        "            self._init_annoy_index()\n",
        "        else:\n",
        "            raise ValueError(\"ANN method must be 'faiss' or 'annoy'\")\n",
        "    \n",
        "    def _init_faiss_index(self):\n",
        "        \"\"\"Initialize FAISS index for fast similarity search\"\"\"\n",
        "        # Use IndexFlatIP for inner product (cosine similarity with normalized vectors)\n",
        "        self.index = faiss.IndexFlatIP(self.dimension)\n",
        "        print(\"✅ FAISS IndexFlatIP initialized for cosine similarity\")\n",
        "    \n",
        "    def _init_annoy_index(self):\n",
        "        \"\"\"Initialize Annoy index for fast similarity search\"\"\"\n",
        "        # Use cosine distance for similarity\n",
        "        self.index = AnnoyIndex(self.dimension, 'angular')  # angular = cosine distance\n",
        "        print(\"✅ Annoy index initialized for cosine similarity\")\n",
        "    \n",
        "    def insert(self, text: str, vector: np.array, metadata: Dict[str, Any] = None):\n",
        "        \"\"\"Insert a vector with text and metadata\"\"\"\n",
        "        if len(vector) != self.dimension:\n",
        "            raise ValueError(f\"Vector dimension {len(vector)} doesn't match expected {self.dimension}\")\n",
        "        \n",
        "        self.vectors.append(vector)\n",
        "        self.texts.append(text)\n",
        "        self.metadata.append(metadata or {})\n",
        "        \n",
        "        # Add to ANN index\n",
        "        if self.ann_method == \"faiss\":\n",
        "            # Normalize vector for cosine similarity\n",
        "            normalized_vector = vector / np.linalg.norm(vector)\n",
        "            self.index.add(normalized_vector.reshape(1, -1))\n",
        "        elif self.ann_method == \"annoy\":\n",
        "            self.index.add_item(len(self.vectors) - 1, vector)\n",
        "    \n",
        "    def build_index(self):\n",
        "        \"\"\"Build the ANN index for fast search\"\"\"\n",
        "        if self.ann_method == \"annoy\":\n",
        "            # Annoy requires building the index after adding all items\n",
        "            self.index.build(10)  # 10 trees for good accuracy/speed tradeoff\n",
        "            print(f\"✅ Annoy index built with {len(self.vectors)} vectors\")\n",
        "        self.is_built = True\n",
        "    \n",
        "    def search(self, query_vector: np.array, k: int = 5, include_metadata: bool = False) -> List[Tuple[str, float, Dict]]:\n",
        "        \"\"\"Search for k nearest neighbors using ANN\"\"\"\n",
        "        if not self.is_built and self.ann_method == \"annoy\":\n",
        "            self.build_index()\n",
        "        \n",
        "        if len(self.vectors) == 0:\n",
        "            return []\n",
        "        \n",
        "        # Prepare query vector\n",
        "        if self.ann_method == \"faiss\":\n",
        "            # Normalize query vector for cosine similarity\n",
        "            normalized_query = query_vector / np.linalg.norm(query_vector)\n",
        "            query_vector = normalized_query.reshape(1, -1)\n",
        "        \n",
        "        # Perform ANN search\n",
        "        if self.ann_method == \"faiss\":\n",
        "            scores, indices = self.index.search(query_vector, min(k, len(self.vectors)))\n",
        "            scores = scores[0]  # Remove batch dimension\n",
        "            indices = indices[0]\n",
        "        elif self.ann_method == \"annoy\":\n",
        "            indices, distances = self.index.get_nns_by_vector(\n",
        "                query_vector, k, include_distances=True\n",
        "            )\n",
        "            # Convert distances to similarities (1 - distance for cosine)\n",
        "            scores = [1 - d for d in distances]\n",
        "        \n",
        "        # Prepare results\n",
        "        results = []\n",
        "        for i, (idx, score) in enumerate(zip(indices, scores)):\n",
        "            if idx < len(self.texts):  # Valid index\n",
        "                text = self.texts[idx]\n",
        "                metadata = self.metadata[idx] if include_metadata else {}\n",
        "                results.append((text, float(score), metadata))\n",
        "        \n",
        "        return results\n",
        "    \n",
        "    def search_by_text(self, query_text: str, k: int = 5, include_metadata: bool = False) -> List[Tuple[str, float, Dict]]:\n",
        "        \"\"\"Search by text using ANN\"\"\"\n",
        "        query_vector = self.embedding_model.get_embedding(query_text)\n",
        "        return self.search(query_vector, k, include_metadata)\n",
        "    \n",
        "    async def abuild_from_list(self, list_of_text: List[str], metadata_list: List[Dict] = None) -> \"ANNVectorDatabase\":\n",
        "        \"\"\"Build ANN database from text list\"\"\"\n",
        "        print(f\"🔄 Building ANN database with {len(list_of_text)} texts...\")\n",
        "        \n",
        "        # Get embeddings\n",
        "        embeddings = await self.embedding_model.async_get_embeddings(list_of_text)\n",
        "        \n",
        "        # Insert all vectors\n",
        "        for i, (text, embedding) in enumerate(zip(list_of_text, embeddings)):\n",
        "            metadata = metadata_list[i] if metadata_list and i < len(metadata_list) else {}\n",
        "            self.insert(text, np.array(embedding), metadata)\n",
        "        \n",
        "        # Build index\n",
        "        self.build_index()\n",
        "        \n",
        "        print(f\"✅ ANN database built with {len(self.vectors)} vectors using {self.ann_method.upper()}\")\n",
        "        return self\n",
        "    \n",
        "    def get_stats(self) -> Dict[str, Any]:\n",
        "        \"\"\"Get database statistics\"\"\"\n",
        "        return {\n",
        "            \"total_vectors\": len(self.vectors),\n",
        "            \"dimension\": self.dimension,\n",
        "            \"ann_method\": self.ann_method,\n",
        "            \"is_built\": self.is_built,\n",
        "            \"created_at\": self.created_at,\n",
        "            \"average_vector_norm\": np.mean([np.linalg.norm(v) for v in self.vectors]) if self.vectors else 0\n",
        "        }\n",
        "    \n",
        "    def save_index(self, filepath: str):\n",
        "        \"\"\"Save the ANN index to disk\"\"\"\n",
        "        if self.ann_method == \"faiss\":\n",
        "            faiss.write_index(self.index, f\"{filepath}.faiss\")\n",
        "            # Save vectors and metadata separately\n",
        "            with open(f\"{filepath}_data.pkl\", \"wb\") as f:\n",
        "                pickle.dump({\n",
        "                    \"texts\": self.texts,\n",
        "                    \"vectors\": self.vectors,\n",
        "                    \"metadata\": self.metadata\n",
        "                }, f)\n",
        "        elif self.ann_method == \"annoy\":\n",
        "            self.index.save(f\"{filepath}.annoy\")\n",
        "            with open(f\"{filepath}_data.pkl\", \"wb\") as f:\n",
        "                pickle.dump({\n",
        "                    \"texts\": self.texts,\n",
        "                    \"vectors\": self.vectors,\n",
        "                    \"metadata\": self.metadata\n",
        "                }, f)\n",
        "        print(f\"✅ ANN index saved to {filepath}\")\n",
        "    \n",
        "    def load_index(self, filepath: str):\n",
        "        \"\"\"Load the ANN index from disk\"\"\"\n",
        "        if self.ann_method == \"faiss\":\n",
        "            self.index = faiss.read_index(f\"{filepath}.faiss\")\n",
        "            with open(f\"{filepath}_data.pkl\", \"rb\") as f:\n",
        "                data = pickle.load(f)\n",
        "                self.texts = data[\"texts\"]\n",
        "                self.vectors = data[\"vectors\"]\n",
        "                self.metadata = data[\"metadata\"]\n",
        "        elif self.ann_method == \"annoy\":\n",
        "            self.index = AnnoyIndex(self.dimension, 'angular')\n",
        "            self.index.load(f\"{filepath}.annoy\")\n",
        "            with open(f\"{filepath}_data.pkl\", \"rb\") as f:\n",
        "                data = pickle.load(f)\n",
        "                self.texts = data[\"texts\"]\n",
        "                self.vectors = data[\"vectors\"]\n",
        "                self.metadata = data[\"metadata\"]\n",
        "        self.is_built = True\n",
        "        print(f\"✅ ANN index loaded from {filepath}\")\n",
        "\n",
        "print(\"✅ ANN Vector Database class ready!\")\n",
        "\n",
        "# =============================================================================\n",
        "# ANN PERFORMANCE COMPARISON\n",
        "# =============================================================================\n",
        "print(\"\\n⚡ ANN PERFORMANCE COMPARISON\")\n",
        "print(\"-\" * 50)\n",
        "\n",
        "class ANNPerformanceTester:\n",
        "    \"\"\"Test and compare different ANN methods\"\"\"\n",
        "    \n",
        "    def __init__(self, embedding_model=None):\n",
        "        self.embedding_model = embedding_model or EmbeddingModel()\n",
        "    \n",
        "    async def compare_methods(self, texts: List[str], query_text: str, k: int = 5):\n",
        "        \"\"\"Compare FAISS vs Annoy performance\"\"\"\n",
        "        print(f\"🔍 Comparing ANN methods with {len(texts)} vectors...\")\n",
        "        \n",
        "        results = {}\n",
        "        \n",
        "        # Test FAISS\n",
        "        print(\"\\n📊 Testing FAISS...\")\n",
        "        start_time = time.time()\n",
        "        faiss_db = ANNVectorDatabase(ann_method=\"faiss\")\n",
        "        await faiss_db.abuild_from_list(texts)\n",
        "        faiss_build_time = time.time() - start_time\n",
        "        \n",
        "        start_time = time.time()\n",
        "        faiss_results = faiss_db.search_by_text(query_text, k)\n",
        "        faiss_search_time = time.time() - start_time\n",
        "        \n",
        "        results[\"faiss\"] = {\n",
        "            \"build_time\": faiss_build_time,\n",
        "            \"search_time\": faiss_search_time,\n",
        "            \"results\": faiss_results,\n",
        "            \"stats\": faiss_db.get_stats()\n",
        "        }\n",
        "        \n",
        "        # Test Annoy\n",
        "        print(\"\\n📊 Testing Annoy...\")\n",
        "        start_time = time.time()\n",
        "        annoy_db = ANNVectorDatabase(ann_method=\"annoy\")\n",
        "        await annoy_db.abuild_from_list(texts)\n",
        "        annoy_build_time = time.time() - start_time\n",
        "        \n",
        "        start_time = time.time()\n",
        "        annoy_results = annoy_db.search_by_text(query_text, k)\n",
        "        annoy_search_time = time.time() - start_time\n",
        "        \n",
        "        results[\"annoy\"] = {\n",
        "            \"build_time\": annoy_build_time,\n",
        "            \"search_time\": annoy_search_time,\n",
        "            \"results\": annoy_results,\n",
        "            \"stats\": annoy_db.get_stats()\n",
        "        }\n",
        "        \n",
        "        # Print comparison\n",
        "        print(f\"\\n📈 PERFORMANCE COMPARISON:\")\n",
        "        print(f\"{'Method':<10} {'Build Time':<12} {'Search Time':<12} {'Vectors':<8}\")\n",
        "        print(\"-\" * 50)\n",
        "        print(f\"{'FAISS':<10} {faiss_build_time:.3f}s{'':<5} {faiss_search_time:.6f}s{'':<5} {len(faiss_db.vectors):<8}\")\n",
        "        print(f\"{'Annoy':<10} {annoy_build_time:.3f}s{'':<5} {annoy_search_time:.6f}s{'':<5} {len(annoy_db.vectors):<8}\")\n",
        "        \n",
        "        return results\n",
        "\n",
        "print(\"✅ ANN Performance Tester ready!\")\n",
        "\n",
        "# =============================================================================\n",
        "# DEMONSTRATION: ANN-ENHANCED RAG\n",
        "# =============================================================================\n",
        "print(\"\\n🚀 DEMONSTRATION: ANN-Enhanced RAG Pipeline\")\n",
        "print(\"=\" * 60)\n",
        "\n",
        "# Load existing documents\n",
        "print(\"\\n1. Loading documents...\")\n",
        "loader = TextFileLoader(\"data/PMarcaBlogs.txt\")\n",
        "documents = loader.load_documents()\n",
        "print(f\"   ✅ Loaded {len(documents)} documents\")\n",
        "\n",
        "# Create text chunks\n",
        "print(\"\\n2. Creating text chunks...\")\n",
        "text_splitter = CharacterTextSplitter(chunk_size=500, chunk_overlap=100)\n",
        "chunks = text_splitter.split_texts(documents)\n",
        "print(f\"   ✅ Created {len(chunks)} chunks\")\n",
        "\n",
        "# Test ANN methods\n",
        "print(\"\\n3. Testing ANN methods...\")\n",
        "tester = ANNPerformanceTester()\n",
        "test_query = \"What is the Michael Eisner problem?\"\n",
        "\n",
        "# Run comparison\n",
        "comparison_results = await tester.compare_methods(chunks, test_query, k=3)\n",
        "\n",
        "# Show results\n",
        "print(f\"\\n🔍 Query: '{test_query}'\")\n",
        "print(\"\\n📊 FAISS Results:\")\n",
        "for i, (text, score, metadata) in enumerate(comparison_results[\"faiss\"][\"results\"]):\n",
        "    print(f\"   {i+1}. Score: {score:.4f} | Text: {text[:100]}...\")\n",
        "\n",
        "print(\"\\n📊 Annoy Results:\")\n",
        "for i, (text, score, metadata) in enumerate(comparison_results[\"annoy\"][\"results\"]):\n",
        "    print(f\"   {i+1}. Score: {score:.4f} | Text: {text[:100]}...\")\n",
        "\n",
        "# =============================================================================\n",
        "# ANN-ENHANCED RAG PIPELINE\n",
        "# =============================================================================\n",
        "print(\"\\n🎯 ANN-ENHANCED RAG PIPELINE\")\n",
        "print(\"=\" * 60)\n",
        "\n",
        "class ANNEnhancedRAGPipeline:\n",
        "    \"\"\"RAG pipeline using ANN for fast similarity search\"\"\"\n",
        "    \n",
        "    def __init__(self, ann_method: str = \"faiss\", response_style: str = \"detailed\"):\n",
        "        self.ann_method = ann_method\n",
        "        self.response_style = response_style\n",
        "        self.vector_db = None\n",
        "        self.llm = ChatOpenAI()\n",
        "    \n",
        "    async def build_pipeline(self, texts: List[str], metadata_list: List[Dict] = None):\n",
        "        \"\"\"Build the ANN-enhanced pipeline\"\"\"\n",
        "        print(f\"🔄 Building ANN-enhanced pipeline with {self.ann_method.upper()}...\")\n",
        "        \n",
        "        self.vector_db = ANNVectorDatabase(ann_method=self.ann_method)\n",
        "        await self.vector_db.abuild_from_list(texts, metadata_list)\n",
        "        \n",
        "        print(f\"✅ Pipeline built with {len(self.vector_db.vectors)} vectors\")\n",
        "        return self\n",
        "    \n",
        "    def query(self, question: str, k: int = 3, include_metadata: bool = True):\n",
        "        \"\"\"Query the ANN-enhanced RAG pipeline\"\"\"\n",
        "        if not self.vector_db:\n",
        "            raise ValueError(\"Pipeline not built. Call build_pipeline() first.\")\n",
        "        \n",
        "        # Search using ANN\n",
        "        results = self.vector_db.search_by_text(question, k, include_metadata)\n",
        "        \n",
        "        # Prepare context\n",
        "        context_prompt = \"\"\n",
        "        for i, (text, score, metadata) in enumerate(results, 1):\n",
        "            context_prompt += f\"[Source {i}] (Score: {score:.3f}): {text}\\n\\n\"\n",
        "        \n",
        "        # Create prompts\n",
        "        system_prompt = f\"\"\"You are a knowledgeable assistant that answers questions based on the provided context.\n",
        "        \n",
        "Response style: {self.response_style}\n",
        "Use only the information from the provided context to answer the question.\n",
        "If the context doesn't contain enough information, say so clearly.\"\"\"\n",
        "        \n",
        "        user_prompt = f\"\"\"Context:\n",
        "{context_prompt}\n",
        "\n",
        "Question: {question}\n",
        "\n",
        "Please provide a {self.response_style} answer based on the context above.\"\"\"\n",
        "        \n",
        "        # Get LLM response\n",
        "        messages = [\n",
        "            SystemRolePrompt(\"{content}\").create_message(content=system_prompt),\n",
        "            UserRolePrompt(\"{content}\").create_message(content=user_prompt)\n",
        "        ]\n",
        "        \n",
        "        response = self.llm.run(messages)\n",
        "        \n",
        "        return {\n",
        "            \"response\": response,\n",
        "            \"context_sources\": results,\n",
        "            \"context_count\": len(results),\n",
        "            \"ann_method\": self.ann_method,\n",
        "            \"query_time\": time.time()\n",
        "        }\n",
        "\n",
        "# Test the ANN-enhanced pipeline\n",
        "print(\"\\n4. Testing ANN-Enhanced RAG Pipeline...\")\n",
        "ann_pipeline = ANNEnhancedRAGPipeline(ann_method=\"faiss\", response_style=\"detailed\")\n",
        "await ann_pipeline.build_pipeline(chunks)\n",
        "\n",
        "# Query the pipeline\n",
        "result = ann_pipeline.query(\"What is the Michael Eisner problem?\", k=3)\n",
        "\n",
        "print(f\"\\n🤖 ANN-Enhanced Response:\")\n",
        "print(f\"Response: {result['response']}\")\n",
        "print(f\"\\nContext Sources: {result['context_count']}\")\n",
        "print(f\"ANN Method: {result['ann_method'].upper()}\")\n",
        "\n",
        "print(\"\\n\" + \"=\"*60)\n",
        "print(\"🎉 ANN-ENHANCED RAG APPLICATION COMPLETE! 🎉\")\n",
        "print(\"=\"*60)\n",
        "print(\"\\n✨ ANN ENHANCEMENTS IMPLEMENTED:\")\n",
        "print(\"   🔍 FAISS-based approximate nearest neighbors\")\n",
        "print(\"   🌳 Annoy-based tree search\")\n",
        "print(\"   ⚡ Fast similarity search for large datasets\")\n",
        "print(\"   📊 Performance comparison between methods\")\n",
        "print(\"   💾 Index persistence (save/load)\")\n",
        "print(\"   🚀 Scalable vector database\")\n",
        "print(\"\\n🚀 Your RAG application now uses state-of-the-art ANN for lightning-fast search!\")\n",
        "print(\"   Perfect for production systems with millions of vectors!\")\n",
        "print(\"   Try different ANN methods to find the best performance for your use case!\")\n"
      ]
    }
  ],
  "metadata": {
    "colab": {
      "provenance": []
    },
    "kernelspec": {
      "display_name": "Python 3",
      "language": "python",
      "name": "python3"
    },
    "language_info": {
      "codemirror_mode": {
        "name": "ipython",
        "version": 3
      },
      "file_extension": ".py",
      "mimetype": "text/x-python",
      "name": "python",
      "nbconvert_exporter": "python",
      "pygments_lexer": "ipython3",
      "version": "3.11.9"
    },
    "orig_nbformat": 4
  },
  "nbformat": 4,
  "nbformat_minor": 0
}
